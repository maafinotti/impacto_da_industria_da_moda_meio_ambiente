{
  "cells": [
    {
      "cell_type": "markdown",
      "metadata": {
        "id": "YhygSO8HCyqF"
      },
      "source": [
        "# Dataset"
      ]
    },
    {
      "cell_type": "code",
      "execution_count": 1,
      "metadata": {
        "id": "vhYBQTyrC5z6"
      },
      "outputs": [],
      "source": [
        "import pandas as pd"
      ]
    },
    {
      "cell_type": "code",
      "execution_count": 2,
      "metadata": {
        "colab": {
          "base_uri": "https://localhost:8080/",
          "height": 340
        },
        "id": "BApHnEPp2tmU",
        "outputId": "48803eb8-bcdf-4bfd-fe4b-387b31dff543"
      },
      "outputs": [
        {
          "data": {
            "text/html": [
              "<div>\n",
              "<style scoped>\n",
              "    .dataframe tbody tr th:only-of-type {\n",
              "        vertical-align: middle;\n",
              "    }\n",
              "\n",
              "    .dataframe tbody tr th {\n",
              "        vertical-align: top;\n",
              "    }\n",
              "\n",
              "    .dataframe thead th {\n",
              "        text-align: right;\n",
              "    }\n",
              "</style>\n",
              "<table border=\"1\" class=\"dataframe\">\n",
              "  <thead>\n",
              "    <tr style=\"text-align: right;\">\n",
              "      <th></th>\n",
              "      <th>marca</th>\n",
              "      <th>nacionalidade</th>\n",
              "      <th>gênero_alvo</th>\n",
              "      <th>idade_alvo</th>\n",
              "      <th>classe_alvo</th>\n",
              "      <th>faturamento(bilhoes_de_reais)</th>\n",
              "      <th>relação_sustentabilidade</th>\n",
              "      <th>lojas_físicas_br</th>\n",
              "      <th>processos_trabalho_escravo</th>\n",
              "      <th>principais_países_fornecedores</th>\n",
              "      <th>reincide_contrato</th>\n",
              "      <th>canal_denuncia</th>\n",
              "      <th>grife_ou_fastfashion</th>\n",
              "    </tr>\n",
              "  </thead>\n",
              "  <tbody>\n",
              "    <tr>\n",
              "      <th>0</th>\n",
              "      <td>Zara</td>\n",
              "      <td>Espanha</td>\n",
              "      <td>Homens e mulheres</td>\n",
              "      <td>Jovem, adulto</td>\n",
              "      <td>B</td>\n",
              "      <td>104</td>\n",
              "      <td>Não é boa o suficiente</td>\n",
              "      <td>49</td>\n",
              "      <td>Sim</td>\n",
              "      <td>Portugal</td>\n",
              "      <td>Sim</td>\n",
              "      <td>Sim</td>\n",
              "      <td>Fast Fashion</td>\n",
              "    </tr>\n",
              "    <tr>\n",
              "      <th>1</th>\n",
              "      <td>C&amp;A</td>\n",
              "      <td>Países baixos</td>\n",
              "      <td>Homens e mulheres</td>\n",
              "      <td>Jovem</td>\n",
              "      <td>C</td>\n",
              "      <td>4,55</td>\n",
              "      <td>Boa</td>\n",
              "      <td>278</td>\n",
              "      <td>Não</td>\n",
              "      <td>Brasil</td>\n",
              "      <td>Sim</td>\n",
              "      <td>Sim</td>\n",
              "      <td>Fast Fashion</td>\n",
              "    </tr>\n",
              "    <tr>\n",
              "      <th>2</th>\n",
              "      <td>Shein</td>\n",
              "      <td>China</td>\n",
              "      <td>Mulheres</td>\n",
              "      <td>Jovem</td>\n",
              "      <td>C</td>\n",
              "      <td>75</td>\n",
              "      <td>Muito ruim</td>\n",
              "      <td>1</td>\n",
              "      <td>Sim</td>\n",
              "      <td>China</td>\n",
              "      <td>Não</td>\n",
              "      <td>Não</td>\n",
              "      <td>Fast Fashion</td>\n",
              "    </tr>\n",
              "    <tr>\n",
              "      <th>3</th>\n",
              "      <td>Fashion Nova</td>\n",
              "      <td>EUA</td>\n",
              "      <td>Mulheres</td>\n",
              "      <td>Jovem</td>\n",
              "      <td>C</td>\n",
              "      <td>0,0022</td>\n",
              "      <td>Muito ruim</td>\n",
              "      <td>0</td>\n",
              "      <td>Sim</td>\n",
              "      <td>EUA</td>\n",
              "      <td>Não</td>\n",
              "      <td>Não</td>\n",
              "      <td>Fast Fashion</td>\n",
              "    </tr>\n",
              "    <tr>\n",
              "      <th>4</th>\n",
              "      <td>Renner</td>\n",
              "      <td>Brasil</td>\n",
              "      <td>Homens e mulheres</td>\n",
              "      <td>Jovem, adulto</td>\n",
              "      <td>C</td>\n",
              "      <td>9,5</td>\n",
              "      <td>Boa</td>\n",
              "      <td>600</td>\n",
              "      <td>Sim</td>\n",
              "      <td>Brasil</td>\n",
              "      <td>Sim</td>\n",
              "      <td>Sim</td>\n",
              "      <td>Fast Fashion</td>\n",
              "    </tr>\n",
              "  </tbody>\n",
              "</table>\n",
              "</div>"
            ],
            "text/plain": [
              "          marca  nacionalidade        gênero_alvo     idade_alvo classe_alvo  \\\n",
              "0          Zara        Espanha  Homens e mulheres  Jovem, adulto           B   \n",
              "1           C&A  Países baixos  Homens e mulheres          Jovem           C   \n",
              "2         Shein          China           Mulheres          Jovem           C   \n",
              "3  Fashion Nova            EUA           Mulheres          Jovem           C   \n",
              "4        Renner         Brasil  Homens e mulheres  Jovem, adulto           C   \n",
              "\n",
              "  faturamento(bilhoes_de_reais) relação_sustentabilidade  lojas_físicas_br  \\\n",
              "0                           104   Não é boa o suficiente                49   \n",
              "1                          4,55                      Boa               278   \n",
              "2                            75               Muito ruim                 1   \n",
              "3                        0,0022               Muito ruim                 0   \n",
              "4                           9,5                      Boa               600   \n",
              "\n",
              "  processos_trabalho_escravo principais_países_fornecedores reincide_contrato  \\\n",
              "0                        Sim                       Portugal               Sim   \n",
              "1                        Não                         Brasil               Sim   \n",
              "2                        Sim                          China               Não   \n",
              "3                        Sim                            EUA               Não   \n",
              "4                        Sim                         Brasil               Sim   \n",
              "\n",
              "  canal_denuncia grife_ou_fastfashion  \n",
              "0            Sim         Fast Fashion  \n",
              "1            Sim         Fast Fashion  \n",
              "2            Não         Fast Fashion  \n",
              "3            Não         Fast Fashion  \n",
              "4            Sim         Fast Fashion  "
            ]
          },
          "execution_count": 2,
          "metadata": {},
          "output_type": "execute_result"
        }
      ],
      "source": [
        "dataset = pd.read_csv('projeto.csv')\n",
        "dataset.head()"
      ]
    },
    {
      "cell_type": "markdown",
      "metadata": {
        "id": "H4notcCsoPsY"
      },
      "source": [
        "# Import"
      ]
    },
    {
      "cell_type": "code",
      "execution_count": 3,
      "metadata": {
        "id": "x2AplEk9oPYk"
      },
      "outputs": [],
      "source": [
        "import matplotlib.pyplot as plt\n",
        "cor = plt.cm.get_cmap('GnBu')"
      ]
    },
    {
      "cell_type": "markdown",
      "metadata": {
        "id": "BS2PoJ1k9xbg"
      },
      "source": [
        "# Fast Fashion e Grife"
      ]
    },
    {
      "cell_type": "markdown",
      "metadata": {
        "id": "zXndf_8NB3wq"
      },
      "source": [
        "- Gráfico de (?)\n",
        "- Classificar se é fast fashion ou grife"
      ]
    },
    {
      "cell_type": "code",
      "execution_count": 4,
      "metadata": {
        "colab": {
          "base_uri": "https://localhost:8080/"
        },
        "id": "VC_UxbDomYMy",
        "outputId": "880b85a9-66a8-4c6b-8e0a-b7f3bc1ba93c"
      },
      "outputs": [
        {
          "data": {
            "text/plain": [
              "Fast Fashion    42\n",
              "Grife            8\n",
              "Name: grife_ou_fastfashion, dtype: int64"
            ]
          },
          "execution_count": 4,
          "metadata": {},
          "output_type": "execute_result"
        }
      ],
      "source": [
        "dataset['grife_ou_fastfashion'].value_counts()"
      ]
    },
    {
      "cell_type": "code",
      "execution_count": 5,
      "metadata": {
        "colab": {
          "base_uri": "https://localhost:8080/",
          "height": 545
        },
        "id": "L4GxLELgm4Jj",
        "outputId": "b2b6aa38-ff33-4afe-d206-7ce66cb0ee7a"
      },
      "outputs": [
        {
          "data": {
            "image/png": "[encoded data removed]",
            "text/plain": [
              "<Figure size 576x576 with 1 Axes>"
            ]
          },
          "metadata": {},
          "output_type": "display_data"
        }
      ],
      "source": [
        "plt.rcParams.update({'axes.facecolor':'white'})\n",
        "grife_ou_fastfashion_values = dataset['grife_ou_fastfashion'].value_counts().values # pegando os dados numéricos\n",
        "dataset.grife_ou_fastfashion.value_counts().plot.pie( # definindo o tipo de gráfico e pegando os dados escritos e numéricos do dataset\n",
        "\t  autopct = lambda p: f'{p:.1f}% ({(p/100)*grife_ou_fastfashion_values.sum():n})', # mostra a porcentagem e a quantidade de marcas\n",
        "\t  fontsize = 18, # tamanho da fonte\n",
        "\t  figsize = (8,8), # tamanho da figura\n",
        "    colors = [cor(0.75), cor(0.50), cor(0.95)] # cor do gráfico\n",
        ")\n",
        "\n",
        "plt.ylabel(None)\n",
        "plt.title(\"Classificação das marcas analisadas: \\nGrife ou Fast Fashion?\", fontsize = \"23\", style='italic') # definindo as configurações do título\n",
        "plt.text(-1.55,-1.4,'Total de marcas analisadas: 50', fontsize=15) # definindo a descrição\n",
        "# plt.savefig(\"Classificação.png\", dpi = 400)\n",
        "plt.show()"
      ]
    },
    {
      "cell_type": "markdown",
      "metadata": {
        "id": "7VCRLiko97E4"
      },
      "source": [
        "# Nacionalidade"
      ]
    },
    {
      "cell_type": "markdown",
      "metadata": {
        "id": "yHdZR6ojCBrH"
      },
      "source": [
        "- Gráfico de linha\n",
        "- País, quantas lojas, ..."
      ]
    },
    {
      "cell_type": "code",
      "execution_count": 6,
      "metadata": {
        "colab": {
          "base_uri": "https://localhost:8080/"
        },
        "id": "SmiDRNrd8mPj",
        "outputId": "8c226a99-e4ea-4312-8496-4b4c6895b7ea"
      },
      "outputs": [
        {
          "data": {
            "text/plain": [
              "Brasil           21\n",
              "EUA               9\n",
              "Itália            4\n",
              "França            3\n",
              "Suécia            2\n",
              "Inglaterra        2\n",
              "Alemanha          2\n",
              "Australia         2\n",
              "Espanha           1\n",
              "Países baixos     1\n",
              "China             1\n",
              "Japão             1\n",
              "Camboja           1\n",
              "Name: nacionalidade, dtype: int64"
            ]
          },
          "execution_count": 6,
          "metadata": {},
          "output_type": "execute_result"
        }
      ],
      "source": [
        "dataset['nacionalidade'].value_counts()"
      ]
    },
    {
      "cell_type": "code",
      "execution_count": 7,
      "metadata": {
        "colab": {
          "base_uri": "https://localhost:8080/",
          "height": 383
        },
        "id": "qfCbGtsvrPiV",
        "outputId": "a620de24-2496-487a-c946-051cda652d8b"
      },
      "outputs": [
        {
          "data": {
            "image/png": "[encoded data removed]",
            "text/plain": [
              "<Figure size 1080x360 with 1 Axes>"
            ]
          },
          "metadata": {},
          "output_type": "display_data"
        }
      ],
      "source": [
        "fig, ax = plt.subplots(figsize=(15,5), facecolor = 'white') # definindo o gráfico\n",
        "def addlabels(x,quantidade): # para adicionar a quantidade exata em cada barra\n",
        "    for i in range(len(x)):\n",
        "        plt.text(i,quantidade[i],quantidade[i], ha = \"center\", va = \"bottom\")\n",
        "país = dataset['nacionalidade'].value_counts().index # definindo o país\n",
        "quantidade = dataset['nacionalidade'].value_counts().values # definindo a quantidade de marcas de cada país\n",
        "ax.bar(país, quantidade, color =\"lightseagreen\") # definindo as configurações do gráfico\n",
        "ax.set_xlabel('País', fontsize = \"14\", style = \"italic\", labelpad=18) # nome e configurações do eixo x\n",
        "plt.xticks(rotation = 15, fontsize = 12)\n",
        "ax.set_ylabel('Quantidade de marcas', fontsize = \"14\", style = \"italic\") # nome e configursções do eixo y\n",
        "ax.set_title('Nacionalidade das marcas analisadas', fontsize = \"20\", style = \"italic\", loc = \"center\") # configurações do título\n",
        "plt.text(-1.8,-6,'Total de marcas analisadas: 50', fontsize=12) # definindo a descrição\n",
        "addlabels(país, quantidade)  \n",
        "plt.show()"
      ]
    },
    {
      "cell_type": "markdown",
      "metadata": {
        "id": "WpGtRQvw9991"
      },
      "source": [
        "# Gênero do público alvo"
      ]
    },
    {
      "cell_type": "markdown",
      "metadata": {
        "id": "9LYWQ2r7CO1X"
      },
      "source": [
        "- Gráfico de pizza ou barra\n",
        "- Não informado, mulheres, homens e mulheres e homens"
      ]
    },
    {
      "cell_type": "code",
      "execution_count": 8,
      "metadata": {
        "colab": {
          "base_uri": "https://localhost:8080/"
        },
        "id": "hF5d3Xy9KhfB",
        "outputId": "d48dadb4-4369-4646-b9bf-f58cab49a1be"
      },
      "outputs": [
        {
          "data": {
            "text/plain": [
              "Homens e mulheres    30\n",
              "Mulheres             20\n",
              "Name: gênero_alvo, dtype: int64"
            ]
          },
          "execution_count": 8,
          "metadata": {},
          "output_type": "execute_result"
        }
      ],
      "source": [
        "dataset['gênero_alvo'].value_counts()"
      ]
    },
    {
      "cell_type": "code",
      "execution_count": 9,
      "metadata": {
        "colab": {
          "base_uri": "https://localhost:8080/",
          "height": 520
        },
        "id": "CJOcmXqwaPW9",
        "outputId": "6b1f60f0-4de4-42ee-fe6f-22ddff9815de"
      },
      "outputs": [
        {
          "data": {
            "image/png": "[encoded data removed]",
            "text/plain": [
              "<Figure size 576x576 with 1 Axes>"
            ]
          },
          "metadata": {},
          "output_type": "display_data"
        }
      ],
      "source": [
        "plt.rcParams.update({'axes.facecolor':'white'})\n",
        "gênero_alvo_values = dataset['gênero_alvo'].value_counts().values\n",
        "dataset.gênero_alvo.value_counts().plot.pie(\n",
        "\t  autopct = lambda p: f'{p:.1f}% ({(p/100)*gênero_alvo_values.sum():n})',\n",
        "\t  fontsize = 18,\n",
        "\t  figsize = (8,8),\n",
        "    colors = [cor(0.75), cor(0.50), cor(0.95)]\n",
        ")\n",
        "plt.ylabel(None)\n",
        "plt.title(\"Gênero do público alvo\", fontsize = \"23\", style='italic')\n",
        "plt.text(-1.5,-1.4,'Total de marcas analisadas: 50', fontsize=15)\n",
        "# plt.savefig(\"Gênero.png\",dpi=400)\n",
        "plt.show()"
      ]
    },
    {
      "cell_type": "markdown",
      "metadata": {
        "id": "BZraYMa26_Rm"
      },
      "source": [
        "# Idade do público alvo"
      ]
    },
    {
      "cell_type": "markdown",
      "metadata": {
        "id": "CBLoV6sDi6oL"
      },
      "source": [
        "- Gráfico de pizza\n",
        "- \"Infantil\", \"Jovem Adulto\", \"Jovem, Adulto\", \"Infantil, Jovem, Adulto\""
      ]
    },
    {
      "cell_type": "code",
      "execution_count": 10,
      "metadata": {
        "colab": {
          "base_uri": "https://localhost:8080/"
        },
        "id": "TVrTMcG97Ii6",
        "outputId": "5a4b7215-e4e8-4acc-bf5c-985ff8cd1b46"
      },
      "outputs": [
        {
          "data": {
            "text/plain": [
              "Jovem                      17\n",
              "Infantil, jovem, adulto    13\n",
              "Jovem, adulto              12\n",
              "Adulto                      7\n",
              "Infantil                    1\n",
              "Name: idade_alvo, dtype: int64"
            ]
          },
          "execution_count": 10,
          "metadata": {},
          "output_type": "execute_result"
        }
      ],
      "source": [
        "dataset['idade_alvo'].value_counts()"
      ]
    },
    {
      "cell_type": "code",
      "execution_count": 11,
      "metadata": {
        "colab": {
          "base_uri": "https://localhost:8080/",
          "height": 433
        },
        "id": "gRv7r4K3Nft_",
        "outputId": "419339b9-1f66-4d71-ad73-0b8088ef8a6e"
      },
      "outputs": [
        {
          "data": {
            "image/png": "[encoded data removed]",
            "text/plain": [
              "<Figure size 576x360 with 1 Axes>"
            ]
          },
          "metadata": {},
          "output_type": "display_data"
        }
      ],
      "source": [
        "fig, ax = plt.subplots(figsize=(8,5), facecolor = 'white')\n",
        "def addlabels(x,quantidade):\n",
        "    for i in range(len(x)):\n",
        "        plt.text(i,quantidade[i],quantidade[i], ha = \"center\", va = 'bottom')\n",
        "público_alvo = ['Infantil', 'Jovem', 'Adulto', 'Jovem, adulto', 'Infantil, jovem, adulto']\n",
        "quantidade = [1, 17, 7, 12, 13]\n",
        "ax.bar(público_alvo, quantidade, color =\"lightseagreen\")\n",
        "ax.set_xlabel('Público', fontsize = \"14\", style = \"italic\", labelpad=18)\n",
        "ax.set_ylabel('Quantidade de marcas', fontsize = \"14\", style = \"italic\")\n",
        "plt.xticks(rotation = 15, fontsize = 12)\n",
        "ax.set_title('Público alvo', fontsize = \"20\", style = \"italic\", loc = \"center\")\n",
        "plt.text(-1.15,-7,'Total de marcas analisadas: 50', fontsize=12)\n",
        "addlabels(público_alvo, quantidade) \n",
        "plt.show()"
      ]
    },
    {
      "cell_type": "markdown",
      "metadata": {
        "id": "pJ2zs85x7CE7"
      },
      "source": [
        "# Classe alvo"
      ]
    },
    {
      "cell_type": "markdown",
      "metadata": {
        "id": "u4WrZoo_i-vX"
      },
      "source": [
        "- Gráfico de barra\n",
        "- AA, A, B, C, D"
      ]
    },
    {
      "cell_type": "code",
      "execution_count": 12,
      "metadata": {
        "colab": {
          "base_uri": "https://localhost:8080/"
        },
        "id": "vHqSsyuN77fd",
        "outputId": "b59a5c1a-bac9-41e4-d598-8bb05c7ff874"
      },
      "outputs": [
        {
          "data": {
            "text/plain": [
              "A     21\n",
              "B     14\n",
              "AA     8\n",
              "C      6\n",
              "D      1\n",
              "Name: classe_alvo, dtype: int64"
            ]
          },
          "execution_count": 12,
          "metadata": {},
          "output_type": "execute_result"
        }
      ],
      "source": [
        "dataset['classe_alvo'].value_counts()"
      ]
    },
    {
      "cell_type": "code",
      "execution_count": 13,
      "metadata": {
        "colab": {
          "base_uri": "https://localhost:8080/",
          "height": 413
        },
        "id": "Il9FGWhn7-LG",
        "outputId": "2491465a-fcf6-4b3d-e42f-575d203125f0"
      },
      "outputs": [
        {
          "data": {
            "image/png": "[encoded data removed]",
            "text/plain": [
              "<Figure size 504x360 with 1 Axes>"
            ]
          },
          "metadata": {},
          "output_type": "display_data"
        }
      ],
      "source": [
        "fig, ax = plt.subplots(figsize=(7,5), facecolor = 'white')\n",
        "def addlabels(x,quantidade):\n",
        "    for i in range(len(x)):\n",
        "        plt.text(i,quantidade[i],quantidade[i], ha = \"center\", va = 'bottom')\n",
        "classe = [\"AA\", \"A\", \"B\", \"C\", \"D\"]\n",
        "quantidade = [8, 21, 14, 6, 1]\n",
        "ax.bar(classe, quantidade, color =\"lightseagreen\")\n",
        "ax.set_xlabel('Classe', fontsize = \"14\", style = \"italic\", labelpad=18)\n",
        "ax.set_ylabel('Quantidade de marcas', fontsize = \"14\", style = \"italic\")\n",
        "ax.set_title('Classe alvo', fontsize = \"20\", style = \"italic\", loc = \"center\")\n",
        "plt.text(-1.15,-7,'Total de marcas analisadas: 50', fontsize=12)\n",
        "addlabels(classe, quantidade) \n",
        "plt.show()"
      ]
    },
    {
      "cell_type": "markdown",
      "metadata": {
        "id": "Tfgi84017EjJ"
      },
      "source": [
        "# Principais países fornecedores"
      ]
    },
    {
      "cell_type": "markdown",
      "metadata": {
        "id": "I0dFRtuMjk_N"
      },
      "source": [
        "- Gráfico de barra\n",
        "- 5 primeiros países"
      ]
    },
    {
      "cell_type": "code",
      "execution_count": 14,
      "metadata": {
        "colab": {
          "base_uri": "https://localhost:8080/"
        },
        "id": "zV5xvXI_jhWj",
        "outputId": "2479100a-b1af-4eee-a7d1-504d763e1aa0"
      },
      "outputs": [
        {
          "data": {
            "text/plain": [
              "Brasil        15\n",
              "China          9\n",
              "França         4\n",
              "Itália         3\n",
              "S/I            3\n",
              "Inglaterra     2\n",
              "Australia      2\n",
              "Portugal       1\n",
              "Cambodia       1\n",
              "Vietnã         1\n",
              "Austrália      1\n",
              "Suiça          1\n",
              "Spain          1\n",
              "Lituania       1\n",
              "Ásia           1\n",
              "Londres        1\n",
              "Italia         1\n",
              "EUA            1\n",
              "Índia          1\n",
              "Name: principais_países_fornecedores, dtype: int64"
            ]
          },
          "execution_count": 14,
          "metadata": {},
          "output_type": "execute_result"
        }
      ],
      "source": [
        "dataset['principais_países_fornecedores'].value_counts()"
      ]
    },
    {
      "cell_type": "code",
      "execution_count": 15,
      "metadata": {
        "colab": {
          "base_uri": "https://localhost:8080/",
          "height": 396
        },
        "id": "lXLoHjTIjg8E",
        "outputId": "6ab3545c-e1f2-45da-c57c-a705577ddf50"
      },
      "outputs": [
        {
          "data": {
            "image/png": "[encoded data removed]",
            "text/plain": [
              "<Figure size 504x360 with 1 Axes>"
            ]
          },
          "metadata": {},
          "output_type": "display_data"
        }
      ],
      "source": [
        "fig, ax = plt.subplots(figsize=(7,5), facecolor = 'white')\n",
        "def addlabels(x,quantidade):\n",
        "    for i in range(len(x)):\n",
        "        plt.text(i,quantidade[i],quantidade[i], ha = \"center\", va = 'bottom')\n",
        "países = [\"Brasil\", \"China\", \"França\", \"Itália\", \"Inglaterra\"]\n",
        "quantidade = [15, 9, 4, 3, 2]\n",
        "ax.bar(países, quantidade, color =\"lightseagreen\")\n",
        "ax.set_xlabel('Países', fontsize = \"14\", style = \"italic\", labelpad=18)\n",
        "plt.xticks(fontsize = 12)\n",
        "ax.set_ylabel('Quantidade de marcas', fontsize = \"14\", style = \"italic\")\n",
        "ax.set_title('Cinco principais países fornecedores', fontsize = \"20\", style = \"italic\", loc = \"center\")\n",
        "plt.text(-1.15,-4,'Total de marcas analisadas: 50', fontsize=12)\n",
        "addlabels(países, quantidade)\n",
        "plt.show()"
      ]
    },
    {
      "cell_type": "markdown",
      "metadata": {
        "id": "lcEUlVku-Bhh"
      },
      "source": [
        "# Rescinde contrato?"
      ]
    },
    {
      "cell_type": "markdown",
      "metadata": {
        "id": "rU125AkRCgsn"
      },
      "source": [
        "- Gráfico de pizza\n",
        "- SIM ou NÃO"
      ]
    },
    {
      "cell_type": "code",
      "execution_count": 16,
      "metadata": {
        "colab": {
          "base_uri": "https://localhost:8080/"
        },
        "id": "BAmmxgh64zEV",
        "outputId": "5ece43e9-1ec9-41ce-881f-6f77cf41a8c1"
      },
      "outputs": [
        {
          "data": {
            "text/plain": [
              "Sim    32\n",
              "Não    15\n",
              "S/I     3\n",
              "Name: reincide_contrato, dtype: int64"
            ]
          },
          "execution_count": 16,
          "metadata": {},
          "output_type": "execute_result"
        }
      ],
      "source": [
        "dataset['reincide_contrato'].value_counts()"
      ]
    },
    {
      "cell_type": "code",
      "execution_count": 17,
      "metadata": {
        "colab": {
          "base_uri": "https://localhost:8080/",
          "height": 546
        },
        "id": "iOQ8l2wE8mOW",
        "outputId": "781e191d-efe3-404b-8474-4070456e0158"
      },
      "outputs": [
        {
          "data": {
            "image/png": "[encoded data removed]",
            "text/plain": [
              "<Figure size 576x576 with 1 Axes>"
            ]
          },
          "metadata": {},
          "output_type": "display_data"
        }
      ],
      "source": [
        "plt.rcParams.update({'axes.facecolor':'white'})\n",
        "reincide_contrato_values = dataset['reincide_contrato'].value_counts().values\n",
        "dataset.reincide_contrato.value_counts().plot.pie(\n",
        "\tautopct = lambda p: f'{p:.1f}% ({(p/100)*reincide_contrato_values.sum():n})',\n",
        "\tfontsize = 18,\n",
        "\tfigsize = (8,8),\n",
        "  colors = [cor(0.75), cor(0.50), cor(0.95)]\n",
        ")\n",
        "\n",
        "plt.ylabel(None)\n",
        "plt.title(\"A empresa rescinde o contrato com a fábrica \\n em caso de trabalho escravo? \", fontsize = \"23\", style='italic')\n",
        "plt.text(-1.55,-1.4,'Total de marcas analisadas: 50', fontsize=15)\n",
        "plt.text(0.5,-1.4,'S/I = Sem informação', fontsize=15)\n",
        "# plt.savefig(\"Rescinde contrato.png\",dpi=400)\n",
        "plt.show()"
      ]
    },
    {
      "cell_type": "markdown",
      "metadata": {
        "id": "tb7bHOY7-DpT"
      },
      "source": [
        "# Tem canal de denúncia?"
      ]
    },
    {
      "cell_type": "markdown",
      "metadata": {
        "id": "6P9-wJI_CjsW"
      },
      "source": [
        "- Gráfico de pizza\n",
        "- SIM ou NÃO"
      ]
    },
    {
      "cell_type": "code",
      "execution_count": 18,
      "metadata": {
        "colab": {
          "base_uri": "https://localhost:8080/"
        },
        "id": "zQ3kEOrd4uR0",
        "outputId": "3f75cc54-911e-45fb-f82f-2434d677b54d"
      },
      "outputs": [
        {
          "data": {
            "text/plain": [
              "Não    27\n",
              "Sim    20\n",
              "S/I     3\n",
              "Name: canal_denuncia, dtype: int64"
            ]
          },
          "execution_count": 18,
          "metadata": {},
          "output_type": "execute_result"
        }
      ],
      "source": [
        "dataset['canal_denuncia'].value_counts()"
      ]
    },
    {
      "cell_type": "code",
      "execution_count": 19,
      "metadata": {
        "colab": {
          "base_uri": "https://localhost:8080/",
          "height": 546
        },
        "id": "xcNXTZM99HBC",
        "outputId": "4385668a-0286-46d5-a8f8-08dffb6aa507"
      },
      "outputs": [
        {
          "data": {
            "image/png": "[encoded data removed]",
            "text/plain": [
              "<Figure size 576x576 with 1 Axes>"
            ]
          },
          "metadata": {},
          "output_type": "display_data"
        }
      ],
      "source": [
        "plt.rcParams.update({'axes.facecolor':'white'})\n",
        "canal_denuncia_values = dataset['gênero_alvo'].value_counts().values\n",
        "dataset.canal_denuncia.value_counts().plot.pie(\n",
        "\tautopct = lambda p: f'{p:.1f}% ({(p/100)*canal_denuncia_values.sum():n})',\n",
        "\tfontsize = 18,\n",
        "\tfigsize = (8,8),\n",
        "  colors = [cor(0.75), cor(0.50), cor(0.95)]\n",
        ")\n",
        "plt.ylabel(None)\n",
        "plt.title(\"A empresa tem um canal de denúncia \\n para evitar trabalho escravo?\", fontsize = \"23\", style='italic')\n",
        "plt.text(-1.4,-1.4,'Total de marcas analisadas: 50', fontsize=15)\n",
        "plt.text(0.4,-1.4,'S/I = Sem informação', fontsize=15)\n",
        "# plt.savefig(\"Canal de denúncia.png\",dpi=400)\n",
        "plt.show()"
      ]
    },
    {
      "cell_type": "markdown",
      "metadata": {
        "id": "b57XGnTb-I35"
      },
      "source": [
        "# Relação com a sustentabilidade"
      ]
    },
    {
      "cell_type": "markdown",
      "metadata": {
        "id": "8XIP7CukCo4K"
      },
      "source": [
        "- Gráfico de (?)\n",
        "- \"Não é boa\", \"é um começo\",..."
      ]
    },
    {
      "cell_type": "code",
      "execution_count": 20,
      "metadata": {
        "colab": {
          "base_uri": "https://localhost:8080/"
        },
        "id": "1ZClIcho9OvS",
        "outputId": "750ed93a-8aa5-4c87-c813-c50b46e07456"
      },
      "outputs": [
        {
          "data": {
            "text/plain": [
              "Boa                       11\n",
              "É um começo               11\n",
              "Ótima                     11\n",
              "Não é boa o suficiente    10\n",
              "Muito ruim                 4\n",
              "S/I                        3\n",
              "Name: relação_sustentabilidade, dtype: int64"
            ]
          },
          "execution_count": 20,
          "metadata": {},
          "output_type": "execute_result"
        }
      ],
      "source": [
        " dataset['relação_sustentabilidade'].value_counts()"
      ]
    },
    {
      "cell_type": "code",
      "execution_count": 21,
      "metadata": {
        "colab": {
          "base_uri": "https://localhost:8080/",
          "height": 445
        },
        "id": "iqphwulncD7f",
        "outputId": "78ae448f-79ea-461f-ff4b-c116cfb5878b"
      },
      "outputs": [
        {
          "data": {
            "image/png": "[encoded data removed]",
            "text/plain": [
              "<Figure size 720x360 with 1 Axes>"
            ]
          },
          "metadata": {},
          "output_type": "display_data"
        }
      ],
      "source": [
        "fig, ax = plt.subplots(figsize=(10,5), facecolor = 'white')\n",
        "def addlabels(x,quantidade):\n",
        "    for i in range(len(x)):\n",
        "        plt.text(i,quantidade[i],quantidade[i], ha = \"center\", va = 'bottom')\n",
        "classificação = [\"Sem informação\", \"Muito ruim\", \"Não é boa o suficiente\", \"É um começo\", \"Boa\", \"Ótima\"]\n",
        "# classificação = (dataset [\"relação_sustentabilidade\"].value_counts().index) \n",
        "quantidade = [3, 4, 10, 11, 11, 11]\n",
        "# quantidade = (dataset [\"relação_sustentabilidade\"].value_counts().values)\n",
        "ax.bar(classificação, quantidade, color =\"lightseagreen\")\n",
        "plt.xticks(rotation = 20, fontsize = 12)\n",
        "ax.set_xlabel('Classificação', fontsize = \"14\", style = \"italic\")\n",
        "ax.set_ylabel('Quantidade de marcas', fontsize = \"14\", style = \"italic\")\n",
        "ax.set_title('Classificação das marcas com relação à sustentabilidade', fontsize = \"20\", style = \"italic\", loc = \"center\")\n",
        "plt.text(-1.2,-5,'Total de marcas analisadas: 50', fontsize=12)\n",
        "addlabels(classificação, quantidade)\n",
        "plt.show()"
      ]
    },
    {
      "cell_type": "markdown",
      "metadata": {
        "id": "lu7udc4--MtT"
      },
      "source": [
        "# Processos em relação ao trabalho escravo"
      ]
    },
    {
      "cell_type": "markdown",
      "metadata": {
        "id": "yg7xSEhsCrZa"
      },
      "source": [
        "- Gráfico de (?)\n",
        "- SIM ou NÃO"
      ]
    },
    {
      "cell_type": "code",
      "execution_count": 22,
      "metadata": {
        "colab": {
          "base_uri": "https://localhost:8080/"
        },
        "id": "eJdnBwE35a_F",
        "outputId": "2394a1c7-3694-4d7b-a2e5-941e97369b59"
      },
      "outputs": [
        {
          "data": {
            "text/plain": [
              "Não    28\n",
              "Sim    22\n",
              "Name: processos_trabalho_escravo, dtype: int64"
            ]
          },
          "execution_count": 22,
          "metadata": {},
          "output_type": "execute_result"
        }
      ],
      "source": [
        " dataset['processos_trabalho_escravo'].value_counts()"
      ]
    },
    {
      "cell_type": "code",
      "execution_count": 23,
      "metadata": {
        "colab": {
          "base_uri": "https://localhost:8080/",
          "height": 545
        },
        "id": "pzyanC8T5wed",
        "outputId": "a499eeb6-6973-44eb-ef2e-0ecd3aec6fa0"
      },
      "outputs": [
        {
          "data": {
            "image/png": "[encoded data removed]",
            "text/plain": [
              "<Figure size 576x576 with 1 Axes>"
            ]
          },
          "metadata": {},
          "output_type": "display_data"
        }
      ],
      "source": [
        "plt.rcParams.update({'axes.facecolor':'white'})\n",
        "processos_trabalho_escravo_values = dataset['processos_trabalho_escravo'].value_counts().values\n",
        "dataset.processos_trabalho_escravo.value_counts().plot.pie(\n",
        "  autopct = lambda p: f'{p:.1f}% ({(p/100)*processos_trabalho_escravo_values.sum():n})',\n",
        "\tfontsize = 18,\n",
        "\tfigsize = (8,8),\n",
        "    colors = [cor(0.75), cor(0.50)]\n",
        ")\n",
        "plt.ylabel(None)\n",
        "plt.title(\"A empresa apresenta processos \\nde trabalho escravo? \", fontsize = \"23\", style='italic')\n",
        "plt.text(-1.1,-1.4,'Total de marcas analisadas: 50', fontsize=15)\n",
        "# plt.savefig(\"Processos - trabalho escravo.png\",dpi=400)\n",
        "plt.show()"
      ]
    },
    {
      "cell_type": "markdown",
      "metadata": {
        "id": "e4yfZNuua2-l"
      },
      "source": [
        "# Raspagem - receita"
      ]
    },
    {
      "cell_type": "markdown",
      "metadata": {
        "id": "NCjv9tZmkfRH"
      },
      "source": [
        "- Raspagem de dados\n",
        "- Transformando em dataframe\n",
        "- Gráfico de linhas"
      ]
    },
    {
      "cell_type": "code",
      "execution_count": 24,
      "metadata": {
        "id": "dpt-hLJra9aC"
      },
      "outputs": [],
      "source": [
        "import requests # pega uma página HTML\n",
        "from bs4 import BeautifulSoup # manipula a página HTML\n",
        "import pandas as pd # manipulação de tabelas"
      ]
    },
    {
      "cell_type": "code",
      "execution_count": 25,
      "metadata": {
        "id": "DIs7M1fdbAkg"
      },
      "outputs": [],
      "source": [
        "# definindo a url\n",
        "url = \"https://statinvestor.com/data/3256/revenue-of-the-apparel-market-worldwide-by-country/\" "
      ]
    },
    {
      "cell_type": "code",
      "execution_count": 26,
      "metadata": {
        "colab": {
          "base_uri": "https://localhost:8080/"
        },
        "id": "C1scOFxpbD1-",
        "outputId": "f4934486-318c-46aa-a8a8-7197edc44169"
      },
      "outputs": [
        {
          "data": {
            "text/plain": [
              "<Response [200]>"
            ]
          },
          "execution_count": 26,
          "metadata": {},
          "output_type": "execute_result"
        }
      ],
      "source": [
        "# dowload da página web (resposta 200 = retorno bem-sucedido)\n",
        "page = requests.get (url)\n",
        "page"
      ]
    },
    {
      "cell_type": "code",
      "execution_count": 27,
      "metadata": {
        "colab": {
          "base_uri": "https://localhost:8080/"
        },
        "id": "yv9l2EdCbEVO",
        "outputId": "38953409-1e2a-4841-fe91-83c704cfbdb5"
      },
      "outputs": [
        {
          "name": "stdout",
          "output_type": "stream",
          "text": [
            "<!DOCTYPE html>\n",
            "<!--[if lt IE 7]>      <html class=\"no-js lt-ie9 lt-ie8 lt-ie7\"> <![endif]-->\n",
            "<!--[if IE 7]>         <html class=\"no-js lt-ie9 lt-ie8\"> <![endif]-->\n",
            "<!--[if IE 8]>         <html class=\"no-js lt-ie9\"> <![endif]-->\n",
            "<!--[if gt IE 8]><!-->\n",
            "<html class=\"no-js\">\n",
            " <!--<![endif]-->\n",
            " <html lang=\"en\">\n",
            "  <head>\n",
            "   <title>\n",
            "    Revenue of the apparel market worldwide by country\n",
            "   </title>\n",
            "   <meta content=\"Revenue of the apparel market worldwide by country in 2017 (Figures expressed in millions of U.S. dollars, unless otherwise specified)\" name=\"description\"/>\n",
            "   <meta charset=\"utf-8\"/>\n",
            "   <meta content=\"IE=edge\" http-equiv=\"X-UA-Compatible\"/>\n",
            "   <meta content=\"width=device-width, initial-scale=1\" name=\"viewport\"/>\n",
            "   <meta content=\"StatInvestor\" name=\"author\"/>\n",
            "   <script async=\"\" data-ad-client=\"ca-pub-3341478490071077\" src=\"https://pagead2.googlesyndication.com/pagead/js/adsbygoogle.js\">\n",
            "   </script>\n",
            "   <link href=\"/css/v2.min.css\" rel=\"stylesheet\"/>\n",
            "   <script src=\"/js/highcharts.js\">\n",
            "   </script>\n",
            "  </head>\n",
            "  <body>\n",
            "   <header class=\"navbar navbar-inverse navbar-fixed-top\" role=\"banner\">\n",
            "    <div class=\"container\">\n",
            "     <div class=\"navbar-header\">\n",
            "      <button class=\"navbar-toggle\" data-target=\".navbar-collapse\" data-toggle=\"collapse\" type=\"button\">\n",
            "       <span class=\"sr-only\">\n",
            "        Toggle navigation\n",
            "       </span>\n",
            "       <span class=\"icon-bar\">\n",
            "       </span>\n",
            "       <span class=\"icon-bar\">\n",
            "       </span>\n",
            "       <span class=\"icon-bar\">\n",
            "       </span>\n",
            "      </button>\n",
            "      <a class=\"navbar-brand\" href=\"/\">\n",
            "       <img alt=\"\" src=\"/img/logo.png\"/>\n",
            "      </a>\n",
            "     </div>\n",
            "     <div class=\"collapse navbar-collapse\">\n",
            "      <ul class=\"nav navbar-nav navbar-right\">\n",
            "       <li>\n",
            "        <a href=\"/\">\n",
            "         Home\n",
            "        </a>\n",
            "       </li>\n",
            "       <li class=\"dropdown\">\n",
            "        <a class=\"dropdown-toggle\" data-toggle=\"dropdown\" href=\"#\">\n",
            "         Industries\n",
            "         <i class=\"icon-angle-down\">\n",
            "         </i>\n",
            "        </a>\n",
            "        <ul class=\"dropdown-menu\">\n",
            "         <li>\n",
            "          <a href=\"/sector/1/agriculture/\">\n",
            "           Agriculture\n",
            "          </a>\n",
            "         </li>\n",
            "         <li>\n",
            "          <a href=\"/sector/4/automobiles/\">\n",
            "           Automobiles\n",
            "          </a>\n",
            "         </li>\n",
            "         <li>\n",
            "          <a href=\"/sector/12/business-and-consumer-services/\">\n",
            "           Business &amp; Consumer Services\n",
            "          </a>\n",
            "         </li>\n",
            "         <li>\n",
            "          <a href=\"/sector/19/consumer-goods/\">\n",
            "           Consumer Goods\n",
            "          </a>\n",
            "         </li>\n",
            "         <li>\n",
            "          <a href=\"/sector/29/energy/\">\n",
            "           Energy\n",
            "          </a>\n",
            "         </li>\n",
            "         <li>\n",
            "          <a href=\"/sector/32/financial-services/\">\n",
            "           Financial Services\n",
            "          </a>\n",
            "         </li>\n",
            "         <li>\n",
            "          <a href=\"/sector/36/health-care-and-life-sciences/\">\n",
            "           Health Care &amp; Life Sciences\n",
            "          </a>\n",
            "         </li>\n",
            "         <li>\n",
            "          <a href=\"/sector/41/industrial-goods/\">\n",
            "           Industrial Goods\n",
            "          </a>\n",
            "         </li>\n",
            "         <li>\n",
            "          <a href=\"/sector/109/international/\">\n",
            "           International\n",
            "          </a>\n",
            "         </li>\n",
            "         <li>\n",
            "          <a href=\"/sector/110/internet/\">\n",
            "           Internet\n",
            "          </a>\n",
            "         </li>\n",
            "         <li>\n",
            "          <a href=\"/sector/48/leisure-arts-and-hospitality/\">\n",
            "           Leisure, Arts &amp; Hospitality\n",
            "          </a>\n",
            "         </li>\n",
            "         <li>\n",
            "          <a href=\"/sector/7/materials-and-resources/\">\n",
            "           Materials &amp; Resources\n",
            "          </a>\n",
            "         </li>\n",
            "         <li>\n",
            "          <a href=\"/sector/53/media-and-entertainment/\">\n",
            "           Media &amp; Entertainment\n",
            "          </a>\n",
            "         </li>\n",
            "         <li>\n",
            "          <a href=\"/sector/57/real-estate-and-construction/\">\n",
            "           Real Estate &amp; Construction\n",
            "          </a>\n",
            "         </li>\n",
            "         <li>\n",
            "          <a href=\"/sector/62/retail-and-wholesale/\">\n",
            "           Retail &amp; Wholesale\n",
            "          </a>\n",
            "         </li>\n",
            "         <li>\n",
            "          <a href=\"/sector/116/society/\">\n",
            "           Society\n",
            "          </a>\n",
            "         </li>\n",
            "         <li>\n",
            "          <a href=\"/sector/65/technology-and-telecommunication-services/\">\n",
            "           Technology &amp; Telecommunication Services\n",
            "          </a>\n",
            "         </li>\n",
            "         <li>\n",
            "          <a href=\"/sector/73/transportation-and-logistics/\">\n",
            "           Transportation &amp; Logistics\n",
            "          </a>\n",
            "         </li>\n",
            "         <li>\n",
            "          <a href=\"/sector/78/utilities/\">\n",
            "           Utilities\n",
            "          </a>\n",
            "         </li>\n",
            "        </ul>\n",
            "       </li>\n",
            "      </ul>\n",
            "     </div>\n",
            "    </div>\n",
            "   </header>\n",
            "   <form action=\"/search/\" class=\"form-inline\" name=\"searchform\">\n",
            "    <div class=\"section section-breadcrumbs\">\n",
            "     <div class=\"container\">\n",
            "      <div class=\"row\">\n",
            "       <div class=\"col-md-8\">\n",
            "       </div>\n",
            "       <div class=\"col-md-3 text-right\">\n",
            "        <div class=\"form-group\">\n",
            "         <input class=\"form-control\" id=\"search\" name=\"q\" placeholder=\"Search\" type=\"text\" value=\"\"/>\n",
            "        </div>\n",
            "       </div>\n",
            "       <div class=\"col-md-1 text-left searchbox\">\n",
            "        <a href=\"#\" onclick=\"document.forms['searchform'].submit();\" style=\"color: black;\">\n",
            "         <span aria-hidden=\"true\" class=\"glyphicon glyphicon-search\">\n",
            "         </span>\n",
            "        </a>\n",
            "       </div>\n",
            "      </div>\n",
            "     </div>\n",
            "    </div>\n",
            "   </form>\n",
            "   <div class=\"section\">\n",
            "    <div class=\"container\">\n",
            "     <div class=\"row\">\n",
            "      <div class=\"col-sm-12 category\">\n",
            "       <div class=\"row\">\n",
            "        <div class=\"col-sm-12 text-left bread\">\n",
            "         <a href=\"/sector/19/consumer-goods/\">\n",
            "          Consumer Goods\n",
            "         </a>\n",
            "         <span>\n",
            "          »\n",
            "         </span>\n",
            "         <a href=\"/industry/20/clothing/\">\n",
            "          Clothing\n",
            "         </a>\n",
            "         <span>\n",
            "          »\n",
            "         </span>\n",
            "         <a class=\"active\" href=\"/category/1131/apparel-market-in-the-us/\">\n",
            "          Apparel Market in the U.S.\n",
            "         </a>\n",
            "         <span>\n",
            "          |\n",
            "         </span>\n",
            "         Revenue of the apparel market worldwide by country 2017\n",
            "        </div>\n",
            "       </div>\n",
            "       <h1 style=\"margin-bottom: 40px; font-size: 30px;\">\n",
            "        Revenue of the apparel market worldwide, by country 2017\n",
            "       </h1>\n",
            "      </div>\n",
            "     </div>\n",
            "     <div class=\"row diagrams\">\n",
            "      <div class=\"col-md-12 col-sm-12\">\n",
            "       <script async=\"\" crossorigin=\"anonymous\" src=\"https://pagead2.googlesyndication.com/pagead/js/adsbygoogle.js?client=ca-pub-3341478490071077\">\n",
            "       </script>\n",
            "       <!-- Rectangle -->\n",
            "       <ins class=\"adsbygoogle\" data-ad-client=\"ca-pub-3341478490071077\" data-ad-format=\"auto\" data-ad-slot=\"8106698187\" data-full-width-responsive=\"true\" style=\"display:block\">\n",
            "       </ins>\n",
            "       <script>\n",
            "        (adsbygoogle = window.adsbygoogle || []).push({});\n",
            "       </script>\n",
            "      </div>\n",
            "     </div>\n",
            "     <div class=\"row diagrams text-left\">\n",
            "      <div class=\"col-sm-12\">\n",
            "       Revenue of the apparel market worldwide by country in 2017 (Figures expressed in millions of U.S. dollars, unless otherwise specified)\n",
            "      </div>\n",
            "     </div>\n",
            "     <div class=\"row diagrams text-center\">\n",
            "      <div class=\"col-md-6 col-sm-6\">\n",
            "       <div id=\"3256\">\n",
            "       </div>\n",
            "       <script type=\"text/javascript\">\n",
            "        Highcharts.chart('3256', {\n",
            "        chart: { type: 'bar' },\n",
            "        credits: { enabled: false },\n",
            "        tooltip: {\n",
            "            valueSuffix: ' ',\n",
            "            formatter: function () { return this.x.replace(/<\\/?[^>]+(>|$)/g, \"\") + ': <b>' + this.y + '</b>'; }\n",
            "        },\n",
            "        plotOptions: { series: { dataLabels: { enabled: true } } },\n",
            "\n",
            "        title: { text: '' },\n",
            "        subtitle: { text: '' },\n",
            "        xAxis: { categories: [\"United States\",\"China\",\"Japan\",\"India\",\"United Kingdom\",\"Germany\",\"Italy\",\"France\",\"South Korea\",\"Canada\",\"Spain\",\"Indonesia\",\"Netherlands\",\"Poland\",\"Austria\",\"Sweden\",\"Switzerland\",\"Hong Kong\",\"Belgium\",\"Norway\",\"Portugal\",\"Malaysia\",\"Denmark\",\"Finland\",\"Thailand\",\"Ireland\",\"Greece\",\"Romania\",\"Singapore\",\"Czech Republic\",\"Vietnam\",\"Philippines\",\"Hungary\",\"Bulgaria\",\"Slovakia\",\"Lithuania\",\"Slovenia\",\"Croatia\",\"Estonia\",\"Latvia\"], title: null },\n",
            "        yAxis: { min: 0, title: { text: '' }, labels: { overflow: 'justify' } },\n",
            "        legend: 'false',\n",
            "        series: [\n",
            "                        {\n",
            "                data: [328067.01,288626.26,91259.02,83440.78,79753.14,70599.67,56354.48,40076.91,26443.11,25624.19]            },\n",
            "                    ]\n",
            "    });\n",
            "       </script>\n",
            "       <br/>\n",
            "       <div class=\"row\">\n",
            "        <div class=\"col-sm-12 text-left\">\n",
            "         <p>\n",
            "          The data presents the revenue of the apparel market by country in 2017. United States has the biggest apparel market with a revenue of 328,067.02 m.US$. For information on over 200 markets in up to 50 countries, please visit Consumer Market Outlook.\n",
            "         </p>\n",
            "        </div>\n",
            "       </div>\n",
            "      </div>\n",
            "      <div class=\"col-sm-6\">\n",
            "       <table class=\"table table-bordered company\">\n",
            "        <tr>\n",
            "         <td class=\"text-left\" style=\"width: 50%\">\n",
            "          United States\n",
            "         </td>\n",
            "         <td class=\"text-left\" style=\"width: 50%\">\n",
            "          328067.01\n",
            "         </td>\n",
            "        </tr>\n",
            "        <tr>\n",
            "         <td class=\"text-left\" style=\"width: 50%\">\n",
            "          China\n",
            "         </td>\n",
            "         <td class=\"text-left\" style=\"width: 50%\">\n",
            "          288626.26\n",
            "         </td>\n",
            "        </tr>\n",
            "        <tr>\n",
            "         <td class=\"text-left\" style=\"width: 50%\">\n",
            "          Japan\n",
            "         </td>\n",
            "         <td class=\"text-left\" style=\"width: 50%\">\n",
            "          91259.02\n",
            "         </td>\n",
            "        </tr>\n",
            "        <tr>\n",
            "         <td class=\"text-left\" style=\"width: 50%\">\n",
            "          India\n",
            "         </td>\n",
            "         <td class=\"text-left\" style=\"width: 50%\">\n",
            "          83440.78\n",
            "         </td>\n",
            "        </tr>\n",
            "        <tr>\n",
            "         <td class=\"text-left\" style=\"width: 50%\">\n",
            "          United Kingdom\n",
            "         </td>\n",
            "         <td class=\"text-left\" style=\"width: 50%\">\n",
            "          79753.14\n",
            "         </td>\n",
            "        </tr>\n",
            "        <tr>\n",
            "         <td class=\"text-left\" style=\"width: 50%\">\n",
            "          Germany\n",
            "         </td>\n",
            "         <td class=\"text-left\" style=\"width: 50%\">\n",
            "          70599.67\n",
            "         </td>\n",
            "        </tr>\n",
            "        <tr>\n",
            "         <td class=\"text-left\" style=\"width: 50%\">\n",
            "          Italy\n",
            "         </td>\n",
            "         <td class=\"text-left\" style=\"width: 50%\">\n",
            "          56354.48\n",
            "         </td>\n",
            "        </tr>\n",
            "        <tr>\n",
            "         <td class=\"text-left\" style=\"width: 50%\">\n",
            "          France\n",
            "         </td>\n",
            "         <td class=\"text-left\" style=\"width: 50%\">\n",
            "          40076.91\n",
            "         </td>\n",
            "        </tr>\n",
            "        <tr>\n",
            "         <td class=\"text-left\" style=\"width: 50%\">\n",
            "          South Korea\n",
            "         </td>\n",
            "         <td class=\"text-left\" style=\"width: 50%\">\n",
            "          26443.11\n",
            "         </td>\n",
            "        </tr>\n",
            "        <tr>\n",
            "         <td class=\"text-left\" style=\"width: 50%\">\n",
            "          Canada\n",
            "         </td>\n",
            "         <td class=\"text-left\" style=\"width: 50%\">\n",
            "          25624.19\n",
            "         </td>\n",
            "        </tr>\n",
            "        <tr>\n",
            "         <td class=\"text-left\" style=\"width: 50%\">\n",
            "          Spain\n",
            "         </td>\n",
            "         <td class=\"text-left\" style=\"width: 50%\">\n",
            "          22814.95\n",
            "         </td>\n",
            "        </tr>\n",
            "        <tr>\n",
            "         <td class=\"text-left\" style=\"width: 50%\">\n",
            "          Indonesia\n",
            "         </td>\n",
            "         <td class=\"text-left\" style=\"width: 50%\">\n",
            "          16654.34\n",
            "         </td>\n",
            "        </tr>\n",
            "        <tr>\n",
            "         <td class=\"text-left\" style=\"width: 50%\">\n",
            "          Netherlands\n",
            "         </td>\n",
            "         <td class=\"text-left\" style=\"width: 50%\">\n",
            "          14049.64\n",
            "         </td>\n",
            "        </tr>\n",
            "        <tr>\n",
            "         <td class=\"text-left\" style=\"width: 50%\">\n",
            "          Poland\n",
            "         </td>\n",
            "         <td class=\"text-left\" style=\"width: 50%\">\n",
            "          11038.38\n",
            "         </td>\n",
            "        </tr>\n",
            "        <tr>\n",
            "         <td class=\"text-left\" style=\"width: 50%\">\n",
            "          Austria\n",
            "         </td>\n",
            "         <td class=\"text-left\" style=\"width: 50%\">\n",
            "          10237.97\n",
            "         </td>\n",
            "        </tr>\n",
            "        <tr>\n",
            "         <td class=\"text-left\" style=\"width: 50%\">\n",
            "          Sweden\n",
            "         </td>\n",
            "         <td class=\"text-left\" style=\"width: 50%\">\n",
            "          9338.39\n",
            "         </td>\n",
            "        </tr>\n",
            "        <tr>\n",
            "         <td class=\"text-left\" style=\"width: 50%\">\n",
            "          Switzerland\n",
            "         </td>\n",
            "         <td class=\"text-left\" style=\"width: 50%\">\n",
            "          9276.47\n",
            "         </td>\n",
            "        </tr>\n",
            "        <tr>\n",
            "         <td class=\"text-left\" style=\"width: 50%\">\n",
            "          Hong Kong\n",
            "         </td>\n",
            "         <td class=\"text-left\" style=\"width: 50%\">\n",
            "          9269.54\n",
            "         </td>\n",
            "        </tr>\n",
            "        <tr>\n",
            "         <td class=\"text-left\" style=\"width: 50%\">\n",
            "          Belgium\n",
            "         </td>\n",
            "         <td class=\"text-left\" style=\"width: 50%\">\n",
            "          9025.93\n",
            "         </td>\n",
            "        </tr>\n",
            "        <tr>\n",
            "         <td class=\"text-left\" style=\"width: 50%\">\n",
            "          Norway\n",
            "         </td>\n",
            "         <td class=\"text-left\" style=\"width: 50%\">\n",
            "          6543.55\n",
            "         </td>\n",
            "        </tr>\n",
            "        <tr>\n",
            "         <td class=\"text-left\" style=\"width: 50%\">\n",
            "          Portugal\n",
            "         </td>\n",
            "         <td class=\"text-left\" style=\"width: 50%\">\n",
            "          6027.82\n",
            "         </td>\n",
            "        </tr>\n",
            "        <tr>\n",
            "         <td class=\"text-left\" style=\"width: 50%\">\n",
            "          Malaysia\n",
            "         </td>\n",
            "         <td class=\"text-left\" style=\"width: 50%\">\n",
            "          5280.12\n",
            "         </td>\n",
            "        </tr>\n",
            "        <tr>\n",
            "         <td class=\"text-left\" style=\"width: 50%\">\n",
            "          Denmark\n",
            "         </td>\n",
            "         <td class=\"text-left\" style=\"width: 50%\">\n",
            "          4724.2\n",
            "         </td>\n",
            "        </tr>\n",
            "        <tr>\n",
            "         <td class=\"text-left\" style=\"width: 50%\">\n",
            "          Finland\n",
            "         </td>\n",
            "         <td class=\"text-left\" style=\"width: 50%\">\n",
            "          4622.95\n",
            "         </td>\n",
            "        </tr>\n",
            "        <tr>\n",
            "         <td class=\"text-left\" style=\"width: 50%\">\n",
            "          Thailand\n",
            "         </td>\n",
            "         <td class=\"text-left\" style=\"width: 50%\">\n",
            "          3383.56\n",
            "         </td>\n",
            "        </tr>\n",
            "        <tr>\n",
            "         <td class=\"text-left\" style=\"width: 50%\">\n",
            "          Ireland\n",
            "         </td>\n",
            "         <td class=\"text-left\" style=\"width: 50%\">\n",
            "          3263.95\n",
            "         </td>\n",
            "        </tr>\n",
            "        <tr>\n",
            "         <td class=\"text-left\" style=\"width: 50%\">\n",
            "          Greece\n",
            "         </td>\n",
            "         <td class=\"text-left\" style=\"width: 50%\">\n",
            "          3140.38\n",
            "         </td>\n",
            "        </tr>\n",
            "        <tr>\n",
            "         <td class=\"text-left\" style=\"width: 50%\">\n",
            "          Romania\n",
            "         </td>\n",
            "         <td class=\"text-left\" style=\"width: 50%\">\n",
            "          3022.33\n",
            "         </td>\n",
            "        </tr>\n",
            "        <tr>\n",
            "         <td class=\"text-left\" style=\"width: 50%\">\n",
            "          Singapore\n",
            "         </td>\n",
            "         <td class=\"text-left\" style=\"width: 50%\">\n",
            "          2989.42\n",
            "         </td>\n",
            "        </tr>\n",
            "        <tr>\n",
            "         <td class=\"text-left\" style=\"width: 50%\">\n",
            "          Czech Republic\n",
            "         </td>\n",
            "         <td class=\"text-left\" style=\"width: 50%\">\n",
            "          2375\n",
            "         </td>\n",
            "        </tr>\n",
            "        <tr>\n",
            "         <td class=\"text-left\" style=\"width: 50%\">\n",
            "          Vietnam\n",
            "         </td>\n",
            "         <td class=\"text-left\" style=\"width: 50%\">\n",
            "          2366.34\n",
            "         </td>\n",
            "        </tr>\n",
            "        <tr>\n",
            "         <td class=\"text-left\" style=\"width: 50%\">\n",
            "          Philippines\n",
            "         </td>\n",
            "         <td class=\"text-left\" style=\"width: 50%\">\n",
            "          2091.62\n",
            "         </td>\n",
            "        </tr>\n",
            "        <tr>\n",
            "         <td class=\"text-left\" style=\"width: 50%\">\n",
            "          Hungary\n",
            "         </td>\n",
            "         <td class=\"text-left\" style=\"width: 50%\">\n",
            "          1689.19\n",
            "         </td>\n",
            "        </tr>\n",
            "        <tr>\n",
            "         <td class=\"text-left\" style=\"width: 50%\">\n",
            "          Bulgaria\n",
            "         </td>\n",
            "         <td class=\"text-left\" style=\"width: 50%\">\n",
            "          1649.83\n",
            "         </td>\n",
            "        </tr>\n",
            "        <tr>\n",
            "         <td class=\"text-left\" style=\"width: 50%\">\n",
            "          Slovakia\n",
            "         </td>\n",
            "         <td class=\"text-left\" style=\"width: 50%\">\n",
            "          1295.46\n",
            "         </td>\n",
            "        </tr>\n",
            "        <tr>\n",
            "         <td class=\"text-left\" style=\"width: 50%\">\n",
            "          Lithuania\n",
            "         </td>\n",
            "         <td class=\"text-left\" style=\"width: 50%\">\n",
            "          1223.66\n",
            "         </td>\n",
            "        </tr>\n",
            "        <tr>\n",
            "         <td class=\"text-left\" style=\"width: 50%\">\n",
            "          Slovenia\n",
            "         </td>\n",
            "         <td class=\"text-left\" style=\"width: 50%\">\n",
            "          974.06\n",
            "         </td>\n",
            "        </tr>\n",
            "        <tr>\n",
            "         <td class=\"text-left\" style=\"width: 50%\">\n",
            "          Croatia\n",
            "         </td>\n",
            "         <td class=\"text-left\" style=\"width: 50%\">\n",
            "          967.12\n",
            "         </td>\n",
            "        </tr>\n",
            "        <tr>\n",
            "         <td class=\"text-left\" style=\"width: 50%\">\n",
            "          Estonia\n",
            "         </td>\n",
            "         <td class=\"text-left\" style=\"width: 50%\">\n",
            "          733.89\n",
            "         </td>\n",
            "        </tr>\n",
            "        <tr>\n",
            "         <td class=\"text-left\" style=\"width: 50%\">\n",
            "          Latvia\n",
            "         </td>\n",
            "         <td class=\"text-left\" style=\"width: 50%\">\n",
            "          679.92\n",
            "         </td>\n",
            "        </tr>\n",
            "       </table>\n",
            "      </div>\n",
            "     </div>\n",
            "    </div>\n",
            "   </div>\n",
            "   <div class=\"footer\">\n",
            "    <div class=\"container\">\n",
            "     <div class=\"row\">\n",
            "      <div class=\"col-footer col-md-4 col-xs-6\">\n",
            "       <h3>\n",
            "        StatInvestor\n",
            "       </h3>\n",
            "       <p class=\"contact-us-details\">\n",
            "        <a href=\"/policy/\">\n",
            "         Privacy Policy\n",
            "        </a>\n",
            "        <br class=\"footer2\"/>\n",
            "        <a href=\"/feedback/\">\n",
            "         Feedback\n",
            "        </a>\n",
            "       </p>\n",
            "      </div>\n",
            "     </div>\n",
            "     <div class=\"row\">\n",
            "      <div class=\"col-md-12\">\n",
            "       <div class=\"footer-copyright stbottom\">\n",
            "        © 2022\n",
            "        <a href=\"/\">\n",
            "         StatInvestor\n",
            "        </a>\n",
            "        All Rights Reserved.\n",
            "       </div>\n",
            "      </div>\n",
            "     </div>\n",
            "    </div>\n",
            "   </div>\n",
            "   <script src=\"/js/v1.min.js\">\n",
            "   </script>\n",
            "   <script>\n",
            "    document.write(\"<link href='http://fonts.googleapis.com/css?family=Open+Sans:400,700,600,800' rel='stylesheet'>\");\n",
            "   </script>\n",
            "  </body>\n",
            " </html>\n",
            "</html>\n"
          ]
        }
      ],
      "source": [
        " # definindo um objeto beautiful soup para fazer a raspagem de dados\n",
        "soup = BeautifulSoup(page.content, 'html.parser')\n",
        "soup\n",
        "# prettify transforma a análise em uma string bem formatada, sendo uma linha separada para cada tag e cada string\n",
        "print(soup.prettify()) "
      ]
    },
    {
      "cell_type": "code",
      "execution_count": 28,
      "metadata": {
        "colab": {
          "base_uri": "https://localhost:8080/"
        },
        "id": "x_WP-a9lbGGW",
        "outputId": "8397c9a6-11cf-4fe8-b3ce-5d7556b41652"
      },
      "outputs": [
        {
          "data": {
            "text/plain": [
              "<table class=\"table table-bordered company\">\n",
              "<tr>\n",
              "<td class=\"text-left\" style=\"width: 50%\">United States</td>\n",
              "<td class=\"text-left\" style=\"width: 50%\">328067.01</td>\n",
              "</tr>\n",
              "<tr>\n",
              "<td class=\"text-left\" style=\"width: 50%\">China</td>\n",
              "<td class=\"text-left\" style=\"width: 50%\">288626.26</td>\n",
              "</tr>\n",
              "<tr>\n",
              "<td class=\"text-left\" style=\"width: 50%\">Japan</td>\n",
              "<td class=\"text-left\" style=\"width: 50%\">91259.02</td>\n",
              "</tr>\n",
              "<tr>\n",
              "<td class=\"text-left\" style=\"width: 50%\">India</td>\n",
              "<td class=\"text-left\" style=\"width: 50%\">83440.78</td>\n",
              "</tr>\n",
              "<tr>\n",
              "<td class=\"text-left\" style=\"width: 50%\">United Kingdom</td>\n",
              "<td class=\"text-left\" style=\"width: 50%\">79753.14</td>\n",
              "</tr>\n",
              "<tr>\n",
              "<td class=\"text-left\" style=\"width: 50%\">Germany</td>\n",
              "<td class=\"text-left\" style=\"width: 50%\">70599.67</td>\n",
              "</tr>\n",
              "<tr>\n",
              "<td class=\"text-left\" style=\"width: 50%\">Italy</td>\n",
              "<td class=\"text-left\" style=\"width: 50%\">56354.48</td>\n",
              "</tr>\n",
              "<tr>\n",
              "<td class=\"text-left\" style=\"width: 50%\">France</td>\n",
              "<td class=\"text-left\" style=\"width: 50%\">40076.91</td>\n",
              "</tr>\n",
              "<tr>\n",
              "<td class=\"text-left\" style=\"width: 50%\">South Korea</td>\n",
              "<td class=\"text-left\" style=\"width: 50%\">26443.11</td>\n",
              "</tr>\n",
              "<tr>\n",
              "<td class=\"text-left\" style=\"width: 50%\">Canada</td>\n",
              "<td class=\"text-left\" style=\"width: 50%\">25624.19</td>\n",
              "</tr>\n",
              "<tr>\n",
              "<td class=\"text-left\" style=\"width: 50%\">Spain</td>\n",
              "<td class=\"text-left\" style=\"width: 50%\">22814.95</td>\n",
              "</tr>\n",
              "<tr>\n",
              "<td class=\"text-left\" style=\"width: 50%\">Indonesia</td>\n",
              "<td class=\"text-left\" style=\"width: 50%\">16654.34</td>\n",
              "</tr>\n",
              "<tr>\n",
              "<td class=\"text-left\" style=\"width: 50%\">Netherlands</td>\n",
              "<td class=\"text-left\" style=\"width: 50%\">14049.64</td>\n",
              "</tr>\n",
              "<tr>\n",
              "<td class=\"text-left\" style=\"width: 50%\">Poland</td>\n",
              "<td class=\"text-left\" style=\"width: 50%\">11038.38</td>\n",
              "</tr>\n",
              "<tr>\n",
              "<td class=\"text-left\" style=\"width: 50%\">Austria</td>\n",
              "<td class=\"text-left\" style=\"width: 50%\">10237.97</td>\n",
              "</tr>\n",
              "<tr>\n",
              "<td class=\"text-left\" style=\"width: 50%\">Sweden</td>\n",
              "<td class=\"text-left\" style=\"width: 50%\">9338.39</td>\n",
              "</tr>\n",
              "<tr>\n",
              "<td class=\"text-left\" style=\"width: 50%\">Switzerland</td>\n",
              "<td class=\"text-left\" style=\"width: 50%\">9276.47</td>\n",
              "</tr>\n",
              "<tr>\n",
              "<td class=\"text-left\" style=\"width: 50%\">Hong Kong</td>\n",
              "<td class=\"text-left\" style=\"width: 50%\">9269.54</td>\n",
              "</tr>\n",
              "<tr>\n",
              "<td class=\"text-left\" style=\"width: 50%\">Belgium</td>\n",
              "<td class=\"text-left\" style=\"width: 50%\">9025.93</td>\n",
              "</tr>\n",
              "<tr>\n",
              "<td class=\"text-left\" style=\"width: 50%\">Norway</td>\n",
              "<td class=\"text-left\" style=\"width: 50%\">6543.55</td>\n",
              "</tr>\n",
              "<tr>\n",
              "<td class=\"text-left\" style=\"width: 50%\">Portugal</td>\n",
              "<td class=\"text-left\" style=\"width: 50%\">6027.82</td>\n",
              "</tr>\n",
              "<tr>\n",
              "<td class=\"text-left\" style=\"width: 50%\">Malaysia</td>\n",
              "<td class=\"text-left\" style=\"width: 50%\">5280.12</td>\n",
              "</tr>\n",
              "<tr>\n",
              "<td class=\"text-left\" style=\"width: 50%\">Denmark</td>\n",
              "<td class=\"text-left\" style=\"width: 50%\">4724.2</td>\n",
              "</tr>\n",
              "<tr>\n",
              "<td class=\"text-left\" style=\"width: 50%\">Finland</td>\n",
              "<td class=\"text-left\" style=\"width: 50%\">4622.95</td>\n",
              "</tr>\n",
              "<tr>\n",
              "<td class=\"text-left\" style=\"width: 50%\">Thailand</td>\n",
              "<td class=\"text-left\" style=\"width: 50%\">3383.56</td>\n",
              "</tr>\n",
              "<tr>\n",
              "<td class=\"text-left\" style=\"width: 50%\">Ireland</td>\n",
              "<td class=\"text-left\" style=\"width: 50%\">3263.95</td>\n",
              "</tr>\n",
              "<tr>\n",
              "<td class=\"text-left\" style=\"width: 50%\">Greece</td>\n",
              "<td class=\"text-left\" style=\"width: 50%\">3140.38</td>\n",
              "</tr>\n",
              "<tr>\n",
              "<td class=\"text-left\" style=\"width: 50%\">Romania</td>\n",
              "<td class=\"text-left\" style=\"width: 50%\">3022.33</td>\n",
              "</tr>\n",
              "<tr>\n",
              "<td class=\"text-left\" style=\"width: 50%\">Singapore</td>\n",
              "<td class=\"text-left\" style=\"width: 50%\">2989.42</td>\n",
              "</tr>\n",
              "<tr>\n",
              "<td class=\"text-left\" style=\"width: 50%\">Czech Republic</td>\n",
              "<td class=\"text-left\" style=\"width: 50%\">2375</td>\n",
              "</tr>\n",
              "<tr>\n",
              "<td class=\"text-left\" style=\"width: 50%\">Vietnam</td>\n",
              "<td class=\"text-left\" style=\"width: 50%\">2366.34</td>\n",
              "</tr>\n",
              "<tr>\n",
              "<td class=\"text-left\" style=\"width: 50%\">Philippines</td>\n",
              "<td class=\"text-left\" style=\"width: 50%\">2091.62</td>\n",
              "</tr>\n",
              "<tr>\n",
              "<td class=\"text-left\" style=\"width: 50%\">Hungary</td>\n",
              "<td class=\"text-left\" style=\"width: 50%\">1689.19</td>\n",
              "</tr>\n",
              "<tr>\n",
              "<td class=\"text-left\" style=\"width: 50%\">Bulgaria</td>\n",
              "<td class=\"text-left\" style=\"width: 50%\">1649.83</td>\n",
              "</tr>\n",
              "<tr>\n",
              "<td class=\"text-left\" style=\"width: 50%\">Slovakia</td>\n",
              "<td class=\"text-left\" style=\"width: 50%\">1295.46</td>\n",
              "</tr>\n",
              "<tr>\n",
              "<td class=\"text-left\" style=\"width: 50%\">Lithuania</td>\n",
              "<td class=\"text-left\" style=\"width: 50%\">1223.66</td>\n",
              "</tr>\n",
              "<tr>\n",
              "<td class=\"text-left\" style=\"width: 50%\">Slovenia</td>\n",
              "<td class=\"text-left\" style=\"width: 50%\">974.06</td>\n",
              "</tr>\n",
              "<tr>\n",
              "<td class=\"text-left\" style=\"width: 50%\">Croatia</td>\n",
              "<td class=\"text-left\" style=\"width: 50%\">967.12</td>\n",
              "</tr>\n",
              "<tr>\n",
              "<td class=\"text-left\" style=\"width: 50%\">Estonia</td>\n",
              "<td class=\"text-left\" style=\"width: 50%\">733.89</td>\n",
              "</tr>\n",
              "<tr>\n",
              "<td class=\"text-left\" style=\"width: 50%\">Latvia</td>\n",
              "<td class=\"text-left\" style=\"width: 50%\">679.92</td>\n",
              "</tr>\n",
              "</table>"
            ]
          },
          "execution_count": 28,
          "metadata": {},
          "output_type": "execute_result"
        }
      ],
      "source": [
        "# para localizar o elemento HTML que queremos\n",
        "tabela = soup.find(class_ = 'table table-bordered company')\n",
        "tabela"
      ]
    },
    {
      "cell_type": "code",
      "execution_count": 29,
      "metadata": {
        "colab": {
          "base_uri": "https://localhost:8080/"
        },
        "id": "HE9i3VYTbIJe",
        "outputId": "3394058a-c194-4c7e-bf53-863482334b26"
      },
      "outputs": [
        {
          "name": "stdout",
          "output_type": "stream",
          "text": [
            "<table class=\"table table-bordered company\">\n",
            " <tr>\n",
            "  <td class=\"text-left\" style=\"width: 50%\">\n",
            "   United States\n",
            "  </td>\n",
            "  <td class=\"text-left\" style=\"width: 50%\">\n",
            "   328067.01\n",
            "  </td>\n",
            " </tr>\n",
            " <tr>\n",
            "  <td class=\"text-left\" style=\"width: 50%\">\n",
            "   China\n",
            "  </td>\n",
            "  <td class=\"text-left\" style=\"width: 50%\">\n",
            "   288626.26\n",
            "  </td>\n",
            " </tr>\n",
            " <tr>\n",
            "  <td class=\"text-left\" style=\"width: 50%\">\n",
            "   Japan\n",
            "  </td>\n",
            "  <td class=\"text-left\" style=\"width: 50%\">\n",
            "   91259.02\n",
            "  </td>\n",
            " </tr>\n",
            " <tr>\n",
            "  <td class=\"text-left\" style=\"width: 50%\">\n",
            "   India\n",
            "  </td>\n",
            "  <td class=\"text-left\" style=\"width: 50%\">\n",
            "   83440.78\n",
            "  </td>\n",
            " </tr>\n",
            " <tr>\n",
            "  <td class=\"text-left\" style=\"width: 50%\">\n",
            "   United Kingdom\n",
            "  </td>\n",
            "  <td class=\"text-left\" style=\"width: 50%\">\n",
            "   79753.14\n",
            "  </td>\n",
            " </tr>\n",
            " <tr>\n",
            "  <td class=\"text-left\" style=\"width: 50%\">\n",
            "   Germany\n",
            "  </td>\n",
            "  <td class=\"text-left\" style=\"width: 50%\">\n",
            "   70599.67\n",
            "  </td>\n",
            " </tr>\n",
            " <tr>\n",
            "  <td class=\"text-left\" style=\"width: 50%\">\n",
            "   Italy\n",
            "  </td>\n",
            "  <td class=\"text-left\" style=\"width: 50%\">\n",
            "   56354.48\n",
            "  </td>\n",
            " </tr>\n",
            " <tr>\n",
            "  <td class=\"text-left\" style=\"width: 50%\">\n",
            "   France\n",
            "  </td>\n",
            "  <td class=\"text-left\" style=\"width: 50%\">\n",
            "   40076.91\n",
            "  </td>\n",
            " </tr>\n",
            " <tr>\n",
            "  <td class=\"text-left\" style=\"width: 50%\">\n",
            "   South Korea\n",
            "  </td>\n",
            "  <td class=\"text-left\" style=\"width: 50%\">\n",
            "   26443.11\n",
            "  </td>\n",
            " </tr>\n",
            " <tr>\n",
            "  <td class=\"text-left\" style=\"width: 50%\">\n",
            "   Canada\n",
            "  </td>\n",
            "  <td class=\"text-left\" style=\"width: 50%\">\n",
            "   25624.19\n",
            "  </td>\n",
            " </tr>\n",
            " <tr>\n",
            "  <td class=\"text-left\" style=\"width: 50%\">\n",
            "   Spain\n",
            "  </td>\n",
            "  <td class=\"text-left\" style=\"width: 50%\">\n",
            "   22814.95\n",
            "  </td>\n",
            " </tr>\n",
            " <tr>\n",
            "  <td class=\"text-left\" style=\"width: 50%\">\n",
            "   Indonesia\n",
            "  </td>\n",
            "  <td class=\"text-left\" style=\"width: 50%\">\n",
            "   16654.34\n",
            "  </td>\n",
            " </tr>\n",
            " <tr>\n",
            "  <td class=\"text-left\" style=\"width: 50%\">\n",
            "   Netherlands\n",
            "  </td>\n",
            "  <td class=\"text-left\" style=\"width: 50%\">\n",
            "   14049.64\n",
            "  </td>\n",
            " </tr>\n",
            " <tr>\n",
            "  <td class=\"text-left\" style=\"width: 50%\">\n",
            "   Poland\n",
            "  </td>\n",
            "  <td class=\"text-left\" style=\"width: 50%\">\n",
            "   11038.38\n",
            "  </td>\n",
            " </tr>\n",
            " <tr>\n",
            "  <td class=\"text-left\" style=\"width: 50%\">\n",
            "   Austria\n",
            "  </td>\n",
            "  <td class=\"text-left\" style=\"width: 50%\">\n",
            "   10237.97\n",
            "  </td>\n",
            " </tr>\n",
            " <tr>\n",
            "  <td class=\"text-left\" style=\"width: 50%\">\n",
            "   Sweden\n",
            "  </td>\n",
            "  <td class=\"text-left\" style=\"width: 50%\">\n",
            "   9338.39\n",
            "  </td>\n",
            " </tr>\n",
            " <tr>\n",
            "  <td class=\"text-left\" style=\"width: 50%\">\n",
            "   Switzerland\n",
            "  </td>\n",
            "  <td class=\"text-left\" style=\"width: 50%\">\n",
            "   9276.47\n",
            "  </td>\n",
            " </tr>\n",
            " <tr>\n",
            "  <td class=\"text-left\" style=\"width: 50%\">\n",
            "   Hong Kong\n",
            "  </td>\n",
            "  <td class=\"text-left\" style=\"width: 50%\">\n",
            "   9269.54\n",
            "  </td>\n",
            " </tr>\n",
            " <tr>\n",
            "  <td class=\"text-left\" style=\"width: 50%\">\n",
            "   Belgium\n",
            "  </td>\n",
            "  <td class=\"text-left\" style=\"width: 50%\">\n",
            "   9025.93\n",
            "  </td>\n",
            " </tr>\n",
            " <tr>\n",
            "  <td class=\"text-left\" style=\"width: 50%\">\n",
            "   Norway\n",
            "  </td>\n",
            "  <td class=\"text-left\" style=\"width: 50%\">\n",
            "   6543.55\n",
            "  </td>\n",
            " </tr>\n",
            " <tr>\n",
            "  <td class=\"text-left\" style=\"width: 50%\">\n",
            "   Portugal\n",
            "  </td>\n",
            "  <td class=\"text-left\" style=\"width: 50%\">\n",
            "   6027.82\n",
            "  </td>\n",
            " </tr>\n",
            " <tr>\n",
            "  <td class=\"text-left\" style=\"width: 50%\">\n",
            "   Malaysia\n",
            "  </td>\n",
            "  <td class=\"text-left\" style=\"width: 50%\">\n",
            "   5280.12\n",
            "  </td>\n",
            " </tr>\n",
            " <tr>\n",
            "  <td class=\"text-left\" style=\"width: 50%\">\n",
            "   Denmark\n",
            "  </td>\n",
            "  <td class=\"text-left\" style=\"width: 50%\">\n",
            "   4724.2\n",
            "  </td>\n",
            " </tr>\n",
            " <tr>\n",
            "  <td class=\"text-left\" style=\"width: 50%\">\n",
            "   Finland\n",
            "  </td>\n",
            "  <td class=\"text-left\" style=\"width: 50%\">\n",
            "   4622.95\n",
            "  </td>\n",
            " </tr>\n",
            " <tr>\n",
            "  <td class=\"text-left\" style=\"width: 50%\">\n",
            "   Thailand\n",
            "  </td>\n",
            "  <td class=\"text-left\" style=\"width: 50%\">\n",
            "   3383.56\n",
            "  </td>\n",
            " </tr>\n",
            " <tr>\n",
            "  <td class=\"text-left\" style=\"width: 50%\">\n",
            "   Ireland\n",
            "  </td>\n",
            "  <td class=\"text-left\" style=\"width: 50%\">\n",
            "   3263.95\n",
            "  </td>\n",
            " </tr>\n",
            " <tr>\n",
            "  <td class=\"text-left\" style=\"width: 50%\">\n",
            "   Greece\n",
            "  </td>\n",
            "  <td class=\"text-left\" style=\"width: 50%\">\n",
            "   3140.38\n",
            "  </td>\n",
            " </tr>\n",
            " <tr>\n",
            "  <td class=\"text-left\" style=\"width: 50%\">\n",
            "   Romania\n",
            "  </td>\n",
            "  <td class=\"text-left\" style=\"width: 50%\">\n",
            "   3022.33\n",
            "  </td>\n",
            " </tr>\n",
            " <tr>\n",
            "  <td class=\"text-left\" style=\"width: 50%\">\n",
            "   Singapore\n",
            "  </td>\n",
            "  <td class=\"text-left\" style=\"width: 50%\">\n",
            "   2989.42\n",
            "  </td>\n",
            " </tr>\n",
            " <tr>\n",
            "  <td class=\"text-left\" style=\"width: 50%\">\n",
            "   Czech Republic\n",
            "  </td>\n",
            "  <td class=\"text-left\" style=\"width: 50%\">\n",
            "   2375\n",
            "  </td>\n",
            " </tr>\n",
            " <tr>\n",
            "  <td class=\"text-left\" style=\"width: 50%\">\n",
            "   Vietnam\n",
            "  </td>\n",
            "  <td class=\"text-left\" style=\"width: 50%\">\n",
            "   2366.34\n",
            "  </td>\n",
            " </tr>\n",
            " <tr>\n",
            "  <td class=\"text-left\" style=\"width: 50%\">\n",
            "   Philippines\n",
            "  </td>\n",
            "  <td class=\"text-left\" style=\"width: 50%\">\n",
            "   2091.62\n",
            "  </td>\n",
            " </tr>\n",
            " <tr>\n",
            "  <td class=\"text-left\" style=\"width: 50%\">\n",
            "   Hungary\n",
            "  </td>\n",
            "  <td class=\"text-left\" style=\"width: 50%\">\n",
            "   1689.19\n",
            "  </td>\n",
            " </tr>\n",
            " <tr>\n",
            "  <td class=\"text-left\" style=\"width: 50%\">\n",
            "   Bulgaria\n",
            "  </td>\n",
            "  <td class=\"text-left\" style=\"width: 50%\">\n",
            "   1649.83\n",
            "  </td>\n",
            " </tr>\n",
            " <tr>\n",
            "  <td class=\"text-left\" style=\"width: 50%\">\n",
            "   Slovakia\n",
            "  </td>\n",
            "  <td class=\"text-left\" style=\"width: 50%\">\n",
            "   1295.46\n",
            "  </td>\n",
            " </tr>\n",
            " <tr>\n",
            "  <td class=\"text-left\" style=\"width: 50%\">\n",
            "   Lithuania\n",
            "  </td>\n",
            "  <td class=\"text-left\" style=\"width: 50%\">\n",
            "   1223.66\n",
            "  </td>\n",
            " </tr>\n",
            " <tr>\n",
            "  <td class=\"text-left\" style=\"width: 50%\">\n",
            "   Slovenia\n",
            "  </td>\n",
            "  <td class=\"text-left\" style=\"width: 50%\">\n",
            "   974.06\n",
            "  </td>\n",
            " </tr>\n",
            " <tr>\n",
            "  <td class=\"text-left\" style=\"width: 50%\">\n",
            "   Croatia\n",
            "  </td>\n",
            "  <td class=\"text-left\" style=\"width: 50%\">\n",
            "   967.12\n",
            "  </td>\n",
            " </tr>\n",
            " <tr>\n",
            "  <td class=\"text-left\" style=\"width: 50%\">\n",
            "   Estonia\n",
            "  </td>\n",
            "  <td class=\"text-left\" style=\"width: 50%\">\n",
            "   733.89\n",
            "  </td>\n",
            " </tr>\n",
            " <tr>\n",
            "  <td class=\"text-left\" style=\"width: 50%\">\n",
            "   Latvia\n",
            "  </td>\n",
            "  <td class=\"text-left\" style=\"width: 50%\">\n",
            "   679.92\n",
            "  </td>\n",
            " </tr>\n",
            "</table>\n",
            "\n"
          ]
        }
      ],
      "source": [
        "print(tabela.prettify())"
      ]
    },
    {
      "cell_type": "code",
      "execution_count": 30,
      "metadata": {
        "colab": {
          "base_uri": "https://localhost:8080/"
        },
        "id": "4wqy25MNbLye",
        "outputId": "30b53eee-17e6-4c9a-b842-a7b23f859162"
      },
      "outputs": [
        {
          "data": {
            "text/plain": [
              "['United States',\n",
              " '328067.01',\n",
              " 'China',\n",
              " '288626.26',\n",
              " 'Japan',\n",
              " '91259.02',\n",
              " 'India',\n",
              " '83440.78',\n",
              " 'United Kingdom',\n",
              " '79753.14',\n",
              " 'Germany',\n",
              " '70599.67',\n",
              " 'Italy',\n",
              " '56354.48',\n",
              " 'France',\n",
              " '40076.91',\n",
              " 'South Korea',\n",
              " '26443.11',\n",
              " 'Canada',\n",
              " '25624.19',\n",
              " 'Spain',\n",
              " '22814.95',\n",
              " 'Indonesia',\n",
              " '16654.34',\n",
              " 'Netherlands',\n",
              " '14049.64',\n",
              " 'Poland',\n",
              " '11038.38',\n",
              " 'Austria',\n",
              " '10237.97',\n",
              " 'Sweden',\n",
              " '9338.39',\n",
              " 'Switzerland',\n",
              " '9276.47',\n",
              " 'Hong Kong',\n",
              " '9269.54',\n",
              " 'Belgium',\n",
              " '9025.93',\n",
              " 'Norway',\n",
              " '6543.55',\n",
              " 'Portugal',\n",
              " '6027.82',\n",
              " 'Malaysia',\n",
              " '5280.12',\n",
              " 'Denmark',\n",
              " '4724.2',\n",
              " 'Finland',\n",
              " '4622.95',\n",
              " 'Thailand',\n",
              " '3383.56',\n",
              " 'Ireland',\n",
              " '3263.95',\n",
              " 'Greece',\n",
              " '3140.38',\n",
              " 'Romania',\n",
              " '3022.33',\n",
              " 'Singapore',\n",
              " '2989.42',\n",
              " 'Czech Republic',\n",
              " '2375',\n",
              " 'Vietnam',\n",
              " '2366.34',\n",
              " 'Philippines',\n",
              " '2091.62',\n",
              " 'Hungary',\n",
              " '1689.19',\n",
              " 'Bulgaria',\n",
              " '1649.83',\n",
              " 'Slovakia',\n",
              " '1295.46',\n",
              " 'Lithuania',\n",
              " '1223.66',\n",
              " 'Slovenia',\n",
              " '974.06',\n",
              " 'Croatia',\n",
              " '967.12',\n",
              " 'Estonia',\n",
              " '733.89',\n",
              " 'Latvia',\n",
              " '679.92']"
            ]
          },
          "execution_count": 30,
          "metadata": {},
          "output_type": "execute_result"
        }
      ],
      "source": [
        "# extraindo o que interessa\n",
        "país_e_receita_tag = tabela.select(\".text-left\")\n",
        "# transformando em lista\n",
        "país_e_receita = []\n",
        "for pt in país_e_receita_tag:\n",
        "    país_e_receita.append(pt.get_text())\n",
        "país_e_receita"
      ]
    },
    {
      "cell_type": "code",
      "execution_count": 31,
      "metadata": {
        "colab": {
          "base_uri": "https://localhost:8080/"
        },
        "id": "xjLa4RXPFmd4",
        "outputId": "bea3d932-bcdf-432f-f02a-f7442b527dc8"
      },
      "outputs": [
        {
          "data": {
            "text/plain": [
              "['United States',\n",
              " 'China',\n",
              " 'Japan',\n",
              " 'India',\n",
              " 'United Kingdom',\n",
              " 'Germany',\n",
              " 'Italy',\n",
              " 'France',\n",
              " 'South Korea',\n",
              " 'Canada',\n",
              " 'Spain',\n",
              " 'Indonesia',\n",
              " 'Netherlands',\n",
              " 'Poland',\n",
              " 'Austria',\n",
              " 'Sweden',\n",
              " 'Switzerland',\n",
              " 'Hong Kong',\n",
              " 'Belgium',\n",
              " 'Norway',\n",
              " 'Portugal',\n",
              " 'Malaysia',\n",
              " 'Denmark',\n",
              " 'Finland',\n",
              " 'Thailand',\n",
              " 'Ireland',\n",
              " 'Greece',\n",
              " 'Romania',\n",
              " 'Singapore',\n",
              " 'Czech Republic',\n",
              " 'Vietnam',\n",
              " 'Philippines',\n",
              " 'Hungary',\n",
              " 'Bulgaria',\n",
              " 'Slovakia',\n",
              " 'Lithuania',\n",
              " 'Slovenia',\n",
              " 'Croatia',\n",
              " 'Estonia',\n",
              " 'Latvia']"
            ]
          },
          "execution_count": 31,
          "metadata": {},
          "output_type": "execute_result"
        }
      ],
      "source": [
        "# selecionando apenas as linhas pares, contendo os países\n",
        "país = país_e_receita[::2]\n",
        "país"
      ]
    },
    {
      "cell_type": "code",
      "execution_count": 32,
      "metadata": {
        "colab": {
          "base_uri": "https://localhost:8080/"
        },
        "id": "RATeHJ5oFown",
        "outputId": "c3fa2d50-3366-4130-a742-dd5e93e8e976"
      },
      "outputs": [
        {
          "data": {
            "text/plain": [
              "['328067.01',\n",
              " '288626.26',\n",
              " '91259.02',\n",
              " '83440.78',\n",
              " '79753.14',\n",
              " '70599.67',\n",
              " '56354.48',\n",
              " '40076.91',\n",
              " '26443.11',\n",
              " '25624.19',\n",
              " '22814.95',\n",
              " '16654.34',\n",
              " '14049.64',\n",
              " '11038.38',\n",
              " '10237.97',\n",
              " '9338.39',\n",
              " '9276.47',\n",
              " '9269.54',\n",
              " '9025.93',\n",
              " '6543.55',\n",
              " '6027.82',\n",
              " '5280.12',\n",
              " '4724.2',\n",
              " '4622.95',\n",
              " '3383.56',\n",
              " '3263.95',\n",
              " '3140.38',\n",
              " '3022.33',\n",
              " '2989.42',\n",
              " '2375',\n",
              " '2366.34',\n",
              " '2091.62',\n",
              " '1689.19',\n",
              " '1649.83',\n",
              " '1295.46',\n",
              " '1223.66',\n",
              " '974.06',\n",
              " '967.12',\n",
              " '733.89',\n",
              " '679.92']"
            ]
          },
          "execution_count": 32,
          "metadata": {},
          "output_type": "execute_result"
        }
      ],
      "source": [
        "# selecionando apenas as linhas ímpares, contendo as receitas\n",
        "receita = país_e_receita[1::2]\n",
        "receita"
      ]
    },
    {
      "cell_type": "code",
      "execution_count": 33,
      "metadata": {
        "colab": {
          "base_uri": "https://localhost:8080/",
          "height": 1000
        },
        "id": "euMxEmsIFqrf",
        "outputId": "5c27931f-9456-47c6-c0a7-a1949a48c77c"
      },
      "outputs": [
        {
          "data": {
            "text/html": [
              "<div>\n",
              "<style scoped>\n",
              "    .dataframe tbody tr th:only-of-type {\n",
              "        vertical-align: middle;\n",
              "    }\n",
              "\n",
              "    .dataframe tbody tr th {\n",
              "        vertical-align: top;\n",
              "    }\n",
              "\n",
              "    .dataframe thead th {\n",
              "        text-align: right;\n",
              "    }\n",
              "</style>\n",
              "<table border=\"1\" class=\"dataframe\">\n",
              "  <thead>\n",
              "    <tr style=\"text-align: right;\">\n",
              "      <th></th>\n",
              "      <th>País</th>\n",
              "      <th>Receita</th>\n",
              "    </tr>\n",
              "  </thead>\n",
              "  <tbody>\n",
              "    <tr>\n",
              "      <th>0</th>\n",
              "      <td>United States</td>\n",
              "      <td>328067.01</td>\n",
              "    </tr>\n",
              "    <tr>\n",
              "      <th>1</th>\n",
              "      <td>China</td>\n",
              "      <td>288626.26</td>\n",
              "    </tr>\n",
              "    <tr>\n",
              "      <th>2</th>\n",
              "      <td>Japan</td>\n",
              "      <td>91259.02</td>\n",
              "    </tr>\n",
              "    <tr>\n",
              "      <th>3</th>\n",
              "      <td>India</td>\n",
              "      <td>83440.78</td>\n",
              "    </tr>\n",
              "    <tr>\n",
              "      <th>4</th>\n",
              "      <td>United Kingdom</td>\n",
              "      <td>79753.14</td>\n",
              "    </tr>\n",
              "    <tr>\n",
              "      <th>5</th>\n",
              "      <td>Germany</td>\n",
              "      <td>70599.67</td>\n",
              "    </tr>\n",
              "    <tr>\n",
              "      <th>6</th>\n",
              "      <td>Italy</td>\n",
              "      <td>56354.48</td>\n",
              "    </tr>\n",
              "    <tr>\n",
              "      <th>7</th>\n",
              "      <td>France</td>\n",
              "      <td>40076.91</td>\n",
              "    </tr>\n",
              "    <tr>\n",
              "      <th>8</th>\n",
              "      <td>South Korea</td>\n",
              "      <td>26443.11</td>\n",
              "    </tr>\n",
              "    <tr>\n",
              "      <th>9</th>\n",
              "      <td>Canada</td>\n",
              "      <td>25624.19</td>\n",
              "    </tr>\n",
              "    <tr>\n",
              "      <th>10</th>\n",
              "      <td>Spain</td>\n",
              "      <td>22814.95</td>\n",
              "    </tr>\n",
              "    <tr>\n",
              "      <th>11</th>\n",
              "      <td>Indonesia</td>\n",
              "      <td>16654.34</td>\n",
              "    </tr>\n",
              "    <tr>\n",
              "      <th>12</th>\n",
              "      <td>Netherlands</td>\n",
              "      <td>14049.64</td>\n",
              "    </tr>\n",
              "    <tr>\n",
              "      <th>13</th>\n",
              "      <td>Poland</td>\n",
              "      <td>11038.38</td>\n",
              "    </tr>\n",
              "    <tr>\n",
              "      <th>14</th>\n",
              "      <td>Austria</td>\n",
              "      <td>10237.97</td>\n",
              "    </tr>\n",
              "    <tr>\n",
              "      <th>15</th>\n",
              "      <td>Sweden</td>\n",
              "      <td>9338.39</td>\n",
              "    </tr>\n",
              "    <tr>\n",
              "      <th>16</th>\n",
              "      <td>Switzerland</td>\n",
              "      <td>9276.47</td>\n",
              "    </tr>\n",
              "    <tr>\n",
              "      <th>17</th>\n",
              "      <td>Hong Kong</td>\n",
              "      <td>9269.54</td>\n",
              "    </tr>\n",
              "    <tr>\n",
              "      <th>18</th>\n",
              "      <td>Belgium</td>\n",
              "      <td>9025.93</td>\n",
              "    </tr>\n",
              "    <tr>\n",
              "      <th>19</th>\n",
              "      <td>Norway</td>\n",
              "      <td>6543.55</td>\n",
              "    </tr>\n",
              "    <tr>\n",
              "      <th>20</th>\n",
              "      <td>Portugal</td>\n",
              "      <td>6027.82</td>\n",
              "    </tr>\n",
              "    <tr>\n",
              "      <th>21</th>\n",
              "      <td>Malaysia</td>\n",
              "      <td>5280.12</td>\n",
              "    </tr>\n",
              "    <tr>\n",
              "      <th>22</th>\n",
              "      <td>Denmark</td>\n",
              "      <td>4724.2</td>\n",
              "    </tr>\n",
              "    <tr>\n",
              "      <th>23</th>\n",
              "      <td>Finland</td>\n",
              "      <td>4622.95</td>\n",
              "    </tr>\n",
              "    <tr>\n",
              "      <th>24</th>\n",
              "      <td>Thailand</td>\n",
              "      <td>3383.56</td>\n",
              "    </tr>\n",
              "    <tr>\n",
              "      <th>25</th>\n",
              "      <td>Ireland</td>\n",
              "      <td>3263.95</td>\n",
              "    </tr>\n",
              "    <tr>\n",
              "      <th>26</th>\n",
              "      <td>Greece</td>\n",
              "      <td>3140.38</td>\n",
              "    </tr>\n",
              "    <tr>\n",
              "      <th>27</th>\n",
              "      <td>Romania</td>\n",
              "      <td>3022.33</td>\n",
              "    </tr>\n",
              "    <tr>\n",
              "      <th>28</th>\n",
              "      <td>Singapore</td>\n",
              "      <td>2989.42</td>\n",
              "    </tr>\n",
              "    <tr>\n",
              "      <th>29</th>\n",
              "      <td>Czech Republic</td>\n",
              "      <td>2375</td>\n",
              "    </tr>\n",
              "    <tr>\n",
              "      <th>30</th>\n",
              "      <td>Vietnam</td>\n",
              "      <td>2366.34</td>\n",
              "    </tr>\n",
              "    <tr>\n",
              "      <th>31</th>\n",
              "      <td>Philippines</td>\n",
              "      <td>2091.62</td>\n",
              "    </tr>\n",
              "    <tr>\n",
              "      <th>32</th>\n",
              "      <td>Hungary</td>\n",
              "      <td>1689.19</td>\n",
              "    </tr>\n",
              "    <tr>\n",
              "      <th>33</th>\n",
              "      <td>Bulgaria</td>\n",
              "      <td>1649.83</td>\n",
              "    </tr>\n",
              "    <tr>\n",
              "      <th>34</th>\n",
              "      <td>Slovakia</td>\n",
              "      <td>1295.46</td>\n",
              "    </tr>\n",
              "    <tr>\n",
              "      <th>35</th>\n",
              "      <td>Lithuania</td>\n",
              "      <td>1223.66</td>\n",
              "    </tr>\n",
              "    <tr>\n",
              "      <th>36</th>\n",
              "      <td>Slovenia</td>\n",
              "      <td>974.06</td>\n",
              "    </tr>\n",
              "    <tr>\n",
              "      <th>37</th>\n",
              "      <td>Croatia</td>\n",
              "      <td>967.12</td>\n",
              "    </tr>\n",
              "    <tr>\n",
              "      <th>38</th>\n",
              "      <td>Estonia</td>\n",
              "      <td>733.89</td>\n",
              "    </tr>\n",
              "    <tr>\n",
              "      <th>39</th>\n",
              "      <td>Latvia</td>\n",
              "      <td>679.92</td>\n",
              "    </tr>\n",
              "  </tbody>\n",
              "</table>\n",
              "</div>"
            ],
            "text/plain": [
              "              País    Receita\n",
              "0    United States  328067.01\n",
              "1            China  288626.26\n",
              "2            Japan   91259.02\n",
              "3            India   83440.78\n",
              "4   United Kingdom   79753.14\n",
              "5          Germany   70599.67\n",
              "6            Italy   56354.48\n",
              "7           France   40076.91\n",
              "8      South Korea   26443.11\n",
              "9           Canada   25624.19\n",
              "10           Spain   22814.95\n",
              "11       Indonesia   16654.34\n",
              "12     Netherlands   14049.64\n",
              "13          Poland   11038.38\n",
              "14         Austria   10237.97\n",
              "15          Sweden    9338.39\n",
              "16     Switzerland    9276.47\n",
              "17       Hong Kong    9269.54\n",
              "18         Belgium    9025.93\n",
              "19          Norway    6543.55\n",
              "20        Portugal    6027.82\n",
              "21        Malaysia    5280.12\n",
              "22         Denmark     4724.2\n",
              "23         Finland    4622.95\n",
              "24        Thailand    3383.56\n",
              "25         Ireland    3263.95\n",
              "26          Greece    3140.38\n",
              "27         Romania    3022.33\n",
              "28       Singapore    2989.42\n",
              "29  Czech Republic       2375\n",
              "30         Vietnam    2366.34\n",
              "31     Philippines    2091.62\n",
              "32         Hungary    1689.19\n",
              "33        Bulgaria    1649.83\n",
              "34        Slovakia    1295.46\n",
              "35       Lithuania    1223.66\n",
              "36        Slovenia     974.06\n",
              "37         Croatia     967.12\n",
              "38         Estonia     733.89\n",
              "39          Latvia     679.92"
            ]
          },
          "execution_count": 33,
          "metadata": {},
          "output_type": "execute_result"
        }
      ],
      "source": [
        "# transformando as listas em uma tabela, informando o país e sua respectiva receita\n",
        "df_pais_e_receita = pd.DataFrame({\n",
        "    \"País\": país,\n",
        "    \"Receita\": receita\n",
        "})\n",
        "df_pais_e_receita"
      ]
    },
    {
      "cell_type": "code",
      "execution_count": 34,
      "metadata": {
        "colab": {
          "base_uri": "https://localhost:8080/"
        },
        "id": "O8zrqB1726P-",
        "outputId": "de9fa73b-07ad-4a17-dd4a-c6075043eafa"
      },
      "outputs": [
        {
          "name": "stdout",
          "output_type": "stream",
          "text": [
            "País        object\n",
            "Receita    float64\n",
            "dtype: object\n"
          ]
        }
      ],
      "source": [
        "# transformando a coluna Receita em float\n",
        "df_pais_e_receita['Receita'] = df_pais_e_receita['Receita'].astype(float)\n",
        "df_pais_e_receita['País'] = df_pais_e_receita['País'].astype(str)\n",
        "print (df_pais_e_receita.dtypes)"
      ]
    },
    {
      "cell_type": "code",
      "execution_count": 35,
      "metadata": {
        "colab": {
          "base_uri": "https://localhost:8080/",
          "height": 394
        },
        "id": "aIVQyL492691",
        "outputId": "8f08da86-5081-4151-f91d-1c27dc901e50"
      },
      "outputs": [
        {
          "data": {
            "text/html": [
              "<div>\n",
              "<style scoped>\n",
              "    .dataframe tbody tr th:only-of-type {\n",
              "        vertical-align: middle;\n",
              "    }\n",
              "\n",
              "    .dataframe tbody tr th {\n",
              "        vertical-align: top;\n",
              "    }\n",
              "\n",
              "    .dataframe thead th {\n",
              "        text-align: right;\n",
              "    }\n",
              "</style>\n",
              "<table border=\"1\" class=\"dataframe\">\n",
              "  <thead>\n",
              "    <tr style=\"text-align: right;\">\n",
              "      <th></th>\n",
              "      <th>País</th>\n",
              "      <th>Receita</th>\n",
              "    </tr>\n",
              "  </thead>\n",
              "  <tbody>\n",
              "    <tr>\n",
              "      <th>0</th>\n",
              "      <td>United States</td>\n",
              "      <td>328067.01</td>\n",
              "    </tr>\n",
              "    <tr>\n",
              "      <th>1</th>\n",
              "      <td>China</td>\n",
              "      <td>288626.26</td>\n",
              "    </tr>\n",
              "    <tr>\n",
              "      <th>2</th>\n",
              "      <td>Japan</td>\n",
              "      <td>91259.02</td>\n",
              "    </tr>\n",
              "    <tr>\n",
              "      <th>3</th>\n",
              "      <td>India</td>\n",
              "      <td>83440.78</td>\n",
              "    </tr>\n",
              "    <tr>\n",
              "      <th>4</th>\n",
              "      <td>United Kingdom</td>\n",
              "      <td>79753.14</td>\n",
              "    </tr>\n",
              "    <tr>\n",
              "      <th>5</th>\n",
              "      <td>Germany</td>\n",
              "      <td>70599.67</td>\n",
              "    </tr>\n",
              "    <tr>\n",
              "      <th>6</th>\n",
              "      <td>Italy</td>\n",
              "      <td>56354.48</td>\n",
              "    </tr>\n",
              "    <tr>\n",
              "      <th>7</th>\n",
              "      <td>France</td>\n",
              "      <td>40076.91</td>\n",
              "    </tr>\n",
              "    <tr>\n",
              "      <th>8</th>\n",
              "      <td>South Korea</td>\n",
              "      <td>26443.11</td>\n",
              "    </tr>\n",
              "    <tr>\n",
              "      <th>9</th>\n",
              "      <td>Canada</td>\n",
              "      <td>25624.19</td>\n",
              "    </tr>\n",
              "    <tr>\n",
              "      <th>10</th>\n",
              "      <td>Spain</td>\n",
              "      <td>22814.95</td>\n",
              "    </tr>\n",
              "  </tbody>\n",
              "</table>\n",
              "</div>"
            ],
            "text/plain": [
              "              País    Receita\n",
              "0    United States  328067.01\n",
              "1            China  288626.26\n",
              "2            Japan   91259.02\n",
              "3            India   83440.78\n",
              "4   United Kingdom   79753.14\n",
              "5          Germany   70599.67\n",
              "6            Italy   56354.48\n",
              "7           France   40076.91\n",
              "8      South Korea   26443.11\n",
              "9           Canada   25624.19\n",
              "10           Spain   22814.95"
            ]
          },
          "execution_count": 35,
          "metadata": {},
          "output_type": "execute_result"
        }
      ],
      "source": [
        "# selecionando apenas os 11 primeiros países\n",
        "df_pais_X_receita2 = df_pais_e_receita.drop(df_pais_e_receita.index[range(11,40)])\n",
        "# df_pais_X_receita2['Receita'] = np.log10(df_pais_X_receita2['Receita'])\n",
        "df_pais_X_receita2"
      ]
    },
    {
      "cell_type": "code",
      "execution_count": 36,
      "metadata": {
        "colab": {
          "base_uri": "https://localhost:8080/",
          "height": 394
        },
        "id": "ZNhGLqParlbX",
        "outputId": "8375eae5-2171-45da-89cd-920b9f76a489"
      },
      "outputs": [
        {
          "data": {
            "text/html": [
              "<div>\n",
              "<style scoped>\n",
              "    .dataframe tbody tr th:only-of-type {\n",
              "        vertical-align: middle;\n",
              "    }\n",
              "\n",
              "    .dataframe tbody tr th {\n",
              "        vertical-align: top;\n",
              "    }\n",
              "\n",
              "    .dataframe thead th {\n",
              "        text-align: right;\n",
              "    }\n",
              "</style>\n",
              "<table border=\"1\" class=\"dataframe\">\n",
              "  <thead>\n",
              "    <tr style=\"text-align: right;\">\n",
              "      <th></th>\n",
              "      <th>País</th>\n",
              "      <th>Receita</th>\n",
              "    </tr>\n",
              "  </thead>\n",
              "  <tbody>\n",
              "    <tr>\n",
              "      <th>0</th>\n",
              "      <td>United States</td>\n",
              "      <td>328.06701</td>\n",
              "    </tr>\n",
              "    <tr>\n",
              "      <th>1</th>\n",
              "      <td>China</td>\n",
              "      <td>288.62626</td>\n",
              "    </tr>\n",
              "    <tr>\n",
              "      <th>2</th>\n",
              "      <td>Japan</td>\n",
              "      <td>91.25902</td>\n",
              "    </tr>\n",
              "    <tr>\n",
              "      <th>3</th>\n",
              "      <td>India</td>\n",
              "      <td>83.44078</td>\n",
              "    </tr>\n",
              "    <tr>\n",
              "      <th>4</th>\n",
              "      <td>United Kingdom</td>\n",
              "      <td>79.75314</td>\n",
              "    </tr>\n",
              "    <tr>\n",
              "      <th>5</th>\n",
              "      <td>Germany</td>\n",
              "      <td>70.59967</td>\n",
              "    </tr>\n",
              "    <tr>\n",
              "      <th>6</th>\n",
              "      <td>Italy</td>\n",
              "      <td>56.35448</td>\n",
              "    </tr>\n",
              "    <tr>\n",
              "      <th>7</th>\n",
              "      <td>France</td>\n",
              "      <td>40.07691</td>\n",
              "    </tr>\n",
              "    <tr>\n",
              "      <th>8</th>\n",
              "      <td>South Korea</td>\n",
              "      <td>26.44311</td>\n",
              "    </tr>\n",
              "    <tr>\n",
              "      <th>9</th>\n",
              "      <td>Canada</td>\n",
              "      <td>25.62419</td>\n",
              "    </tr>\n",
              "    <tr>\n",
              "      <th>10</th>\n",
              "      <td>Spain</td>\n",
              "      <td>22.81495</td>\n",
              "    </tr>\n",
              "  </tbody>\n",
              "</table>\n",
              "</div>"
            ],
            "text/plain": [
              "              País    Receita\n",
              "0    United States  328.06701\n",
              "1            China  288.62626\n",
              "2            Japan   91.25902\n",
              "3            India   83.44078\n",
              "4   United Kingdom   79.75314\n",
              "5          Germany   70.59967\n",
              "6            Italy   56.35448\n",
              "7           France   40.07691\n",
              "8      South Korea   26.44311\n",
              "9           Canada   25.62419\n",
              "10           Spain   22.81495"
            ]
          },
          "execution_count": 36,
          "metadata": {},
          "output_type": "execute_result"
        }
      ],
      "source": [
        "# dividindo os valores por 1000 para uma melhor visualização no gráfico\n",
        "df_pais_X_receita2['Receita'] = (df_pais_X_receita2['Receita'])/1000\n",
        "df_pais_X_receita2"
      ]
    },
    {
      "cell_type": "code",
      "execution_count": 37,
      "metadata": {
        "colab": {
          "base_uri": "https://localhost:8080/",
          "height": 394
        },
        "id": "bUx6EwJBq14i",
        "outputId": "79bfaf74-d205-4238-9b16-aad51ed77495"
      },
      "outputs": [
        {
          "data": {
            "text/html": [
              "<div>\n",
              "<style scoped>\n",
              "    .dataframe tbody tr th:only-of-type {\n",
              "        vertical-align: middle;\n",
              "    }\n",
              "\n",
              "    .dataframe tbody tr th {\n",
              "        vertical-align: top;\n",
              "    }\n",
              "\n",
              "    .dataframe thead th {\n",
              "        text-align: right;\n",
              "    }\n",
              "</style>\n",
              "<table border=\"1\" class=\"dataframe\">\n",
              "  <thead>\n",
              "    <tr style=\"text-align: right;\">\n",
              "      <th></th>\n",
              "      <th>País</th>\n",
              "      <th>Receita</th>\n",
              "    </tr>\n",
              "  </thead>\n",
              "  <tbody>\n",
              "    <tr>\n",
              "      <th>0</th>\n",
              "      <td>United States</td>\n",
              "      <td>328.0</td>\n",
              "    </tr>\n",
              "    <tr>\n",
              "      <th>1</th>\n",
              "      <td>China</td>\n",
              "      <td>289.0</td>\n",
              "    </tr>\n",
              "    <tr>\n",
              "      <th>2</th>\n",
              "      <td>Japan</td>\n",
              "      <td>91.0</td>\n",
              "    </tr>\n",
              "    <tr>\n",
              "      <th>3</th>\n",
              "      <td>India</td>\n",
              "      <td>83.0</td>\n",
              "    </tr>\n",
              "    <tr>\n",
              "      <th>4</th>\n",
              "      <td>United Kingdom</td>\n",
              "      <td>80.0</td>\n",
              "    </tr>\n",
              "    <tr>\n",
              "      <th>5</th>\n",
              "      <td>Germany</td>\n",
              "      <td>71.0</td>\n",
              "    </tr>\n",
              "    <tr>\n",
              "      <th>6</th>\n",
              "      <td>Italy</td>\n",
              "      <td>56.0</td>\n",
              "    </tr>\n",
              "    <tr>\n",
              "      <th>7</th>\n",
              "      <td>France</td>\n",
              "      <td>40.0</td>\n",
              "    </tr>\n",
              "    <tr>\n",
              "      <th>8</th>\n",
              "      <td>South Korea</td>\n",
              "      <td>26.0</td>\n",
              "    </tr>\n",
              "    <tr>\n",
              "      <th>9</th>\n",
              "      <td>Canada</td>\n",
              "      <td>26.0</td>\n",
              "    </tr>\n",
              "    <tr>\n",
              "      <th>10</th>\n",
              "      <td>Spain</td>\n",
              "      <td>23.0</td>\n",
              "    </tr>\n",
              "  </tbody>\n",
              "</table>\n",
              "</div>"
            ],
            "text/plain": [
              "              País  Receita\n",
              "0    United States    328.0\n",
              "1            China    289.0\n",
              "2            Japan     91.0\n",
              "3            India     83.0\n",
              "4   United Kingdom     80.0\n",
              "5          Germany     71.0\n",
              "6            Italy     56.0\n",
              "7           France     40.0\n",
              "8      South Korea     26.0\n",
              "9           Canada     26.0\n",
              "10           Spain     23.0"
            ]
          },
          "execution_count": 37,
          "metadata": {},
          "output_type": "execute_result"
        }
      ],
      "source": [
        "# arredondando os valores\n",
        "df_pais_X_receita2['Receita'] = round(df_pais_X_receita2['Receita'])\n",
        "df_pais_X_receita2"
      ]
    },
    {
      "cell_type": "code",
      "execution_count": 38,
      "metadata": {
        "colab": {
          "base_uri": "https://localhost:8080/",
          "height": 394
        },
        "id": "wb-MKs_yq1r7",
        "outputId": "654094f9-8e40-4e84-fa99-99da17df8758"
      },
      "outputs": [
        {
          "data": {
            "text/html": [
              "<div>\n",
              "<style scoped>\n",
              "    .dataframe tbody tr th:only-of-type {\n",
              "        vertical-align: middle;\n",
              "    }\n",
              "\n",
              "    .dataframe tbody tr th {\n",
              "        vertical-align: top;\n",
              "    }\n",
              "\n",
              "    .dataframe thead th {\n",
              "        text-align: right;\n",
              "    }\n",
              "</style>\n",
              "<table border=\"1\" class=\"dataframe\">\n",
              "  <thead>\n",
              "    <tr style=\"text-align: right;\">\n",
              "      <th></th>\n",
              "      <th>País</th>\n",
              "      <th>Receita</th>\n",
              "    </tr>\n",
              "  </thead>\n",
              "  <tbody>\n",
              "    <tr>\n",
              "      <th>0</th>\n",
              "      <td>United States</td>\n",
              "      <td>328</td>\n",
              "    </tr>\n",
              "    <tr>\n",
              "      <th>1</th>\n",
              "      <td>China</td>\n",
              "      <td>289</td>\n",
              "    </tr>\n",
              "    <tr>\n",
              "      <th>2</th>\n",
              "      <td>Japan</td>\n",
              "      <td>91</td>\n",
              "    </tr>\n",
              "    <tr>\n",
              "      <th>3</th>\n",
              "      <td>India</td>\n",
              "      <td>83</td>\n",
              "    </tr>\n",
              "    <tr>\n",
              "      <th>4</th>\n",
              "      <td>United Kingdom</td>\n",
              "      <td>80</td>\n",
              "    </tr>\n",
              "    <tr>\n",
              "      <th>5</th>\n",
              "      <td>Germany</td>\n",
              "      <td>71</td>\n",
              "    </tr>\n",
              "    <tr>\n",
              "      <th>6</th>\n",
              "      <td>Italy</td>\n",
              "      <td>56</td>\n",
              "    </tr>\n",
              "    <tr>\n",
              "      <th>7</th>\n",
              "      <td>France</td>\n",
              "      <td>40</td>\n",
              "    </tr>\n",
              "    <tr>\n",
              "      <th>8</th>\n",
              "      <td>South Korea</td>\n",
              "      <td>26</td>\n",
              "    </tr>\n",
              "    <tr>\n",
              "      <th>9</th>\n",
              "      <td>Canada</td>\n",
              "      <td>26</td>\n",
              "    </tr>\n",
              "    <tr>\n",
              "      <th>10</th>\n",
              "      <td>Spain</td>\n",
              "      <td>23</td>\n",
              "    </tr>\n",
              "  </tbody>\n",
              "</table>\n",
              "</div>"
            ],
            "text/plain": [
              "              País  Receita\n",
              "0    United States      328\n",
              "1            China      289\n",
              "2            Japan       91\n",
              "3            India       83\n",
              "4   United Kingdom       80\n",
              "5          Germany       71\n",
              "6            Italy       56\n",
              "7           France       40\n",
              "8      South Korea       26\n",
              "9           Canada       26\n",
              "10           Spain       23"
            ]
          },
          "execution_count": 38,
          "metadata": {},
          "output_type": "execute_result"
        }
      ],
      "source": [
        "# transformando a coluna Receita em int\n",
        "df_pais_X_receita2['Receita'] = df_pais_X_receita2['Receita'].astype(int)\n",
        "df_pais_X_receita2"
      ]
    },
    {
      "cell_type": "code",
      "execution_count": 39,
      "metadata": {
        "colab": {
          "base_uri": "https://localhost:8080/",
          "height": 556
        },
        "id": "IePw__np5TDk",
        "outputId": "6040976c-5ff7-4ec0-a7c0-d2b0a441416b"
      },
      "outputs": [
        {
          "data": {
            "text/plain": [
              "<function matplotlib.pyplot.show(close=None, block=None)>"
            ]
          },
          "execution_count": 39,
          "metadata": {},
          "output_type": "execute_result"
        },
        {
          "data": {
            "image/png": "[encoded data removed]",
            "text/plain": [
              "<Figure size 1368x720 with 1 Axes>"
            ]
          },
          "metadata": {
            "needs_background": "light"
          },
          "output_type": "display_data"
        }
      ],
      "source": [
        "import matplotlib.pyplot as plt\n",
        "país = df_pais_X_receita2[\"País\"] # pegando os dados da coluna País\n",
        "receita = df_pais_X_receita2[\"Receita\"] # pegando os dados da coluna Receita\n",
        "figura = plt.figure(figsize=(19,10)) # definindo o gráfico\n",
        "def addlabels(x,quantidade): # para mostrar os números específicos\n",
        "    for i in range(len(x)):\n",
        "        plt.text(i,receita[i],receita[i], fontsize = 15, va = 'bottom')\n",
        "plt.plot(país, receita, color = \"b\", marker = \"o\") # configurações do gráfico\n",
        "plt.xticks(rotation = 25, fontsize=20) # configuração do eixo x\n",
        "plt.yticks( fontsize=15) # configuração do eixo y\n",
        "plt.title('Países com a maior receita da indústria têxtil em 2017', fontsize= 25) # configurações do título\n",
        "plt.legend(['Receita em bilhões de dólares'], loc='upper right', shadow=True, fontsize=20) # definindo a legenda\n",
        "plt.grid(True) # adicionando a grade\n",
        "addlabels(país, receita)\n",
        "plt.show"
      ]
    },
    {
      "cell_type": "code",
      "execution_count": null,
      "metadata": {
        "id": "ZgeumIlJQ4AX"
      },
      "outputs": [],
      "source": []
    }
  ],
  "metadata": {
    "colab": {
      "collapsed_sections": [],
      "name": "projeto final",
      "provenance": []
    },
    "kernelspec": {
      "display_name": "Python 3.9.7 ('base')",
      "language": "python",
      "name": "python3"
    },
    "language_info": {
      "codemirror_mode": {
        "name": "ipython",
        "version": 3
      },
      "file_extension": ".py",
      "mimetype": "text/x-python",
      "name": "python",
      "nbconvert_exporter": "python",
      "pygments_lexer": "ipython3",
      "version": "3.9.7"
    },
    "vscode": {
      "interpreter": {
        "hash": "1e7e0479bd71d54e8eb28d5333bb5f22f67630afd9e3e2121b89582dcdd4e1f9"
      }
    }
  },
  "nbformat": 4,
  "nbformat_minor": 0
}
